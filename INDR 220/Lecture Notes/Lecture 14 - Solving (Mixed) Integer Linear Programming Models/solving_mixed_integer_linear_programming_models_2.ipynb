{
 "cells": [
  {
   "cell_type": "markdown",
   "metadata": {},
   "source": [
    "# Solving (Mixed) Integer Linear Programming Models\n",
    "## Mehmet Gönen\n",
    "## November 23, 2022"
   ]
  },
  {
   "cell_type": "code",
   "execution_count": 1,
   "metadata": {},
   "outputs": [],
   "source": [
    "# load libraries\n",
    "import numpy as np\n",
    "import scipy.sparse as sp\n",
    "\n",
    "import cplex as cp"
   ]
  },
  {
   "cell_type": "code",
   "execution_count": 2,
   "metadata": {},
   "outputs": [],
   "source": [
    "def mixed_integer_linear_programming(direction, A, senses, b, c, l, u, types):\n",
    "    # create an empty optimization problem\n",
    "    prob = cp.Cplex()\n",
    "\n",
    "    # add decision variables to the problem including their coefficients in objective and ranges\n",
    "    prob.variables.add(obj = c.tolist(), lb = l.tolist(), ub = u.tolist(), types = types.tolist())\n",
    "\n",
    "    # define problem type\n",
    "    if direction == \"maximize\":\n",
    "        prob.objective.set_sense(prob.objective.sense.maximize)\n",
    "    else:\n",
    "        prob.objective.set_sense(prob.objective.sense.minimize)\n",
    "\n",
    "    # add constraints to the problem including their directions and right-hand side values\n",
    "    prob.linear_constraints.add(senses = senses.tolist(), rhs = b.tolist())\n",
    "\n",
    "    # add coefficients for each constraint\n",
    "    row_indices, col_indices = A.nonzero()\n",
    "    prob.linear_constraints.set_coefficients(zip(row_indices.tolist(), col_indices.tolist(), A.data.tolist()))\n",
    "\n",
    "    # solve the problem\n",
    "    print(prob.write_as_string())\n",
    "    prob.solve()\n",
    "\n",
    "    # check the solution status\n",
    "    print(prob.solution.get_status())\n",
    "    print(prob.solution.status[prob.solution.get_status()])\n",
    "\n",
    "    # get the solution\n",
    "    x_star = prob.solution.get_values()\n",
    "    obj_star = prob.solution.get_objective_value()\n",
    "\n",
    "    return(x_star, obj_star)"
   ]
  },
  {
   "cell_type": "markdown",
   "metadata": {},
   "source": [
    "## The warehouse location problem\n",
    "In modeling distribution systems, decisions must be made about tradeoffs between transportation costs and costs for operating distribution centers. As an example, suppose that a manager must decide which of $M$ warehouses to use for meeting the demands of $N$ customers for a good. The decisions to be made are which warehouses to operate and how much to ship from any warehouse to any customer. Let\n",
    "\n",
    "\\begin{align*}\n",
    "y_{i} &= \\begin{cases} 1 & \\textrm{if warehouse $i$ is opened,}\\\\\n",
    "0 & \\textrm{if warehouse $i$ is not opened;}\\end{cases} \\\\\n",
    "x_{ij} &= \\textrm{Amount to be sent from warehouse $i$ to customer $j$}.\n",
    "\\end{align*}\n",
    "\n",
    "The relevant costs are:\n",
    "\n",
    "\\begin{align*}\n",
    "f_{i} &= \\textrm{fixed operating cost for warehouse $i$, if opened (for example, a cost to lease the warehouse),}\\\\\n",
    "c_{ij} &= \\textrm{per-unit operating cost at warehouse $i$ plus the transportation cost for shipping from warehouse $i$ to customer $j$.}\n",
    "\\end{align*}\n",
    "\n",
    "There are two types of constraints for the model:\n",
    "1. the demand $d_{j}$ of each customer must be filled from the warehouses; and\n",
    "2. goods can be shipped from a warehouse only if it is opened.\n",
    "\n",
    "The model is:\n",
    "\n",
    "\\begin{align*}\n",
    "\\mbox{minimize} \\;\\;& \\sum\\limits_{i = 1}^{M} \\sum\\limits_{j = 1}^{N} c_{ij} x_{ij} + \\sum\\limits_{i = 1}^{M} f_{i}y_{i} \\\\\n",
    "\\mbox{subject to:} \\;\\;& \\sum\\limits_{i = 1}^{M} x_{ij} = d_{j} \\;\\;\\;\\; j = 1, 2, \\dots, N\\\\\n",
    "\\;\\;& \\sum\\limits_{j = 1}^{N} x_{ij} - y_{i} \\left(\\sum\\limits_{j = 1}^{N} d_{j}\\right) \\leq 0 \\;\\;\\;\\; i = 1, 2, \\dots, M\\\\\n",
    "\\;\\;& x_{ij} \\geq 0 \\;\\;\\;\\; i = 1, 2, \\dots, M; j = 1, 2, \\dots, N\\\\\n",
    "\\;\\;& y_{i} \\in \\{0, 1\\} \\;\\;\\;\\; i = 1, 2, \\dots, M\n",
    "\\end{align*}\n",
    "\n",
    "\\begin{align*}\n",
    "\\mbox{minimize} \\;\\;& c_{11}x_{11} + c_{12}x_{12} + c_{13}x_{13} + c_{21}x_{21} + c_{22}x_{22} + c_{23}x_{23} + f_{1} y_{1} + f_{2} y_{2} \\\\\n",
    "\\mbox{subject to:} \\;\\;& + x_{11} \\phantom{+ x_{12} + x_{13}\\:\\:}  + x_{21} \\phantom{+ x_{22} + x_{23} + (d_{1} + d_{2} + d_{3})y_{1} + (d_{1} + d_{2} + d_{3})y_{2}\\:\\:} = d_{1}\\\\\n",
    "\\;\\;& \\phantom{+ x_{11}\\:\\:} + x_{12} \\phantom{+ x_{13} + x_{21}\\:\\:} + x_{22} \\phantom{+ x_{23} + (d_{1} + d_{2} + d_{3})y_{1} + (d_{1} + d_{2} + d_{3})y_{2}\\:\\:} = d_{2}\\\\\n",
    "\\;\\;& \\phantom{+ x_{11} + x_{12}\\:\\:} + x_{13} \\phantom{+x_{21} + x_{22}\\:\\:}+ x_{23}  \\phantom{+ (d_{1} + d_{2} + d_{3})y_{1} + (d_{1} + d_{2} + d_{3})y_{2}\\:\\:} = d_{3}\\\\\n",
    "\\;\\;& + x_{11} + x_{12} + x_{13} \\phantom{+ x_{21} + x_{22} + x_{23}\\:\\:} - (d_{1} + d_{2} + d_{3})y_{1} \\phantom{+ (d_{1} + d_{2} + d_{3})y_{2}\\:\\:} \\leq 0\\\\\n",
    "\\;\\;&  \\phantom{+x_{11} + x_{12} + x_{13}\\:\\:} + x_{21} + x_{22} + x_{23} \\phantom{- (d_{1} + d_{2} + d_{3})y_{1}\\:\\:} - (d_{1} + d_{2} + d_{3})y_{2} \\leq 0\\\\\n",
    "\\;\\;& x_{11} \\geq 0\\\\\n",
    "\\;\\;& x_{12} \\geq 0\\\\\n",
    "\\;\\;& x_{13} \\geq 0\\\\\n",
    "\\;\\;& x_{21} \\geq 0\\\\\n",
    "\\;\\;& x_{22} \\geq 0\\\\\n",
    "\\;\\;& x_{23} \\geq 0\\\\\n",
    "\\;\\;& y_{1} \\in \\{0, 1\\}\\\\\n",
    "\\;\\;& y_{2} \\in \\{0, 1\\}\n",
    "\\end{align*}"
   ]
  },
  {
   "cell_type": "code",
   "execution_count": 3,
   "metadata": {},
   "outputs": [
    {
     "name": "stdout",
     "output_type": "stream",
     "text": [
      "[[   1.    0.    0.    1.    0.    0.    0.    0.]\n",
      " [   0.    1.    0.    0.    1.    0.    0.    0.]\n",
      " [   0.    0.    1.    0.    0.    1.    0.    0.]\n",
      " [   1.    1.    1.    0.    0.    0. -600.    0.]\n",
      " [   0.    0.    0.    1.    1.    1.    0. -600.]]\n",
      "(array([0, 0, 1, 1, 2, 2, 3, 3, 3, 3, 4, 4, 4, 4], dtype=int32), array([0, 3, 1, 4, 2, 5, 0, 1, 2, 6, 3, 4, 5, 7], dtype=int32))\n"
     ]
    },
    {
     "data": {
      "image/png": "[encoded data removed]",
      "text/plain": [
       "<Figure size 360x576 with 1 Axes>"
      ]
     },
     "metadata": {
      "needs_background": "light"
     },
     "output_type": "display_data"
    }
   ],
   "source": [
    "costs = np.array([27, 55, 90, 13, 48, 39])\n",
    "fixed_costs = np.array([12000, 14000])\n",
    "demands = np.array([100, 300, 200])\n",
    "\n",
    "names = np.array([\"x_1_1\", \"x_1_2\", \"x_1_3\", \"x_2_1\", \"x_2_2\", \"x_2_3\", \"y_1\", \"y_2\"])\n",
    "c = np.concatenate((costs, fixed_costs))\n",
    "senses = np.concatenate((np.repeat(\"E\", 3), np.repeat(\"L\", 2)))\n",
    "b = np.concatenate((demands, np.repeat(0, 2)))\n",
    "l = np.concatenate((np.repeat(0, 6), np.repeat(0, 2)))\n",
    "u = np.concatenate((np.repeat(cp.infinity, 6), np.repeat(1, 2)))\n",
    "types = np.concatenate((np.repeat(\"C\", 6), np.repeat(\"B\", 2)))\n",
    "\n",
    "A = np.zeros((5, 8))\n",
    "# customer 1\n",
    "A[0, 0] = 1\n",
    "A[0, 3] = 1\n",
    "# customer 2\n",
    "A[1, 1] = 1\n",
    "A[1, 4] = 1\n",
    "# customer 3\n",
    "A[2, 2] = 1\n",
    "A[2, 5] = 1\n",
    "# warehouse 1\n",
    "A[3, 0] = 1\n",
    "A[3, 1] = 1\n",
    "A[3, 2] = 1\n",
    "A[3, 6] = -np.sum(demands)\n",
    "# warehouse 2\n",
    "A[4, 3] = 1\n",
    "A[4, 4] = 1\n",
    "A[4, 5] = 1\n",
    "A[4, 7] = -np.sum(demands)\n",
    "\n",
    "print(A)\n",
    "A = sp.csr_matrix(A)\n",
    "print(A.nonzero())\n",
    "\n",
    "import matplotlib.pyplot as plt\n",
    "plt.figure(figsize = (5, 8))\n",
    "plt.spy(A, marker = \"o\")\n",
    "plt.show()"
   ]
  },
  {
   "cell_type": "code",
   "execution_count": 4,
   "metadata": {},
   "outputs": [
    {
     "name": "stderr",
     "output_type": "stream",
     "text": [
      "Default variable names x1, x2 ... being created.\n",
      "Default row names c1, c2 ... being created.\n"
     ]
    },
    {
     "name": "stdout",
     "output_type": "stream",
     "text": [
      "\\ENCODING=ISO-8859-1\n",
      "\\Problem name: \n",
      "\n",
      "Minimize\n",
      " obj1: 27 x1 + 55 x2 + 90 x3 + 13 x4 + 48 x5 + 39 x6 + 12000 x7 + 14000 x8\n",
      "Subject To\n",
      " c1: x1 + x4  = 100\n",
      " c2: x2 + x5  = 300\n",
      " c3: x3 + x6  = 200\n",
      " c4: x1 + x2 + x3 - 600 x7 <= 0\n",
      " c5: x4 + x5 + x6 - 600 x8 <= 0\n",
      "Bounds\n",
      " 0 <= x7 <= 1\n",
      " 0 <= x8 <= 1\n",
      "Binaries\n",
      " x7  x8 \n",
      "End\n",
      "\n",
      "Version identifier: 22.1.0.0 | 2022-03-09 | 1a383f8ce\n",
      "CPXPARAM_Read_DataCheck                          1\n",
      "Found incumbent of value 49200.000000 after 0.00 sec. (0.00 ticks)\n",
      "Tried aggregator 3 times.\n",
      "MIP Presolve eliminated 2 rows and 2 columns.\n",
      "MIP Presolve added 3 rows and 0 columns.\n",
      "MIP Presolve modified 1 coefficients.\n",
      "Aggregator did 6 substitutions.\n",
      "All rows and columns eliminated.\n",
      "Presolve time = 0.00 sec. (0.01 ticks)\n",
      "\n",
      "Root node processing (before b&c):\n",
      "  Real time             =    0.01 sec. (0.02 ticks)\n",
      "Parallel b&c, 2 threads:\n",
      "  Real time             =    0.00 sec. (0.00 ticks)\n",
      "  Sync time (average)   =    0.00 sec.\n",
      "  Wait time (average)   =    0.00 sec.\n",
      "                          ------------\n",
      "Total (root+branch&cut) =    0.01 sec. (0.02 ticks)\n",
      "101\n",
      "MIP_optimal\n",
      "['x_1_1' 'x_1_2' 'x_1_3' 'x_2_1' 'x_2_2' 'x_2_3' 'y_1' 'y_2']\n",
      "[0.0, 0.0, 0.0, 100.0, 300.0, 200.0, 0.0, 1.0]\n",
      "37500.0\n"
     ]
    }
   ],
   "source": [
    "x_star, obj_star = mixed_integer_linear_programming(\"minimize\", A, senses, b, c, l, u, types)\n",
    "print(names)\n",
    "print(x_star)\n",
    "print(obj_star)"
   ]
  },
  {
   "cell_type": "code",
   "execution_count": 5,
   "metadata": {},
   "outputs": [],
   "source": [
    "def warehouse_location_problem(costs, fixed_costs, demands):\n",
    "    M = fixed_costs.size\n",
    "    N = demands.size\n",
    "    print(M)\n",
    "    print(N)\n",
    "\n",
    "    c = np.concatenate((costs, fixed_costs))\n",
    "    senses = np.concatenate((np.repeat(\"E\", N), np.repeat(\"L\", M)))\n",
    "    b = np.concatenate((demands, np.repeat(0, M)))\n",
    "    l = np.concatenate((np.repeat(0, M * N), np.repeat(0, M)))\n",
    "    u = np.concatenate((np.repeat(cp.infinity, M * N), np.repeat(1, M)))\n",
    "    types = np.concatenate((np.repeat(\"C\", M * N), np.repeat(\"B\", M)))\n",
    "\n",
    "    aij = np.concatenate((np.repeat(1, M * N),\n",
    "                          np.tile(np.concatenate((np.repeat(1, N), [-np.sum(demands)])), M)))\n",
    "    row = np.concatenate((np.repeat(range(N), M),\n",
    "                          N + np.repeat(range(M), N + 1)))\n",
    "    col = np.concatenate((np.array(range(M * N)).reshape(M, N).T.flatten(), \n",
    "                          np.concatenate([np.concatenate((np.arange(m * N, (m + 1) * N), [M * N + m])) for m in range(M)])))\n",
    "    A = sp.csr_matrix((aij, (row, col)), shape = (M + N, M * N + M))\n",
    "\n",
    "    x_star, obj_star = mixed_integer_linear_programming(\"minimize\", A, senses, b, c, l, u, types)\n",
    "    return(x_star, obj_star)"
   ]
  },
  {
   "cell_type": "code",
   "execution_count": 6,
   "metadata": {},
   "outputs": [
    {
     "name": "stderr",
     "output_type": "stream",
     "text": [
      "Default variable names x1, x2 ... being created.\n",
      "Default row names c1, c2 ... being created.\n"
     ]
    },
    {
     "name": "stdout",
     "output_type": "stream",
     "text": [
      "2\n",
      "3\n",
      "\\ENCODING=ISO-8859-1\n",
      "\\Problem name: \n",
      "\n",
      "Minimize\n",
      " obj1: 27 x1 + 55 x2 + 90 x3 + 13 x4 + 48 x5 + 39 x6 + 12000 x7 + 14000 x8\n",
      "Subject To\n",
      " c1: x1 + x4  = 100\n",
      " c2: x2 + x5  = 300\n",
      " c3: x3 + x6  = 200\n",
      " c4: x1 + x2 + x3 - 600 x7 <= 0\n",
      " c5: x4 + x5 + x6 - 600 x8 <= 0\n",
      "Bounds\n",
      " 0 <= x7 <= 1\n",
      " 0 <= x8 <= 1\n",
      "Binaries\n",
      " x7  x8 \n",
      "End\n",
      "\n",
      "Version identifier: 22.1.0.0 | 2022-03-09 | 1a383f8ce\n",
      "CPXPARAM_Read_DataCheck                          1\n",
      "Found incumbent of value 49200.000000 after 0.00 sec. (0.00 ticks)\n",
      "Tried aggregator 3 times.\n",
      "MIP Presolve eliminated 2 rows and 2 columns.\n",
      "MIP Presolve added 3 rows and 0 columns.\n",
      "MIP Presolve modified 1 coefficients.\n",
      "Aggregator did 6 substitutions.\n",
      "All rows and columns eliminated.\n",
      "Presolve time = 0.02 sec. (0.01 ticks)\n",
      "\n",
      "Root node processing (before b&c):\n",
      "  Real time             =    0.04 sec. (0.02 ticks)\n",
      "Parallel b&c, 2 threads:\n",
      "  Real time             =    0.00 sec. (0.00 ticks)\n",
      "  Sync time (average)   =    0.00 sec.\n",
      "  Wait time (average)   =    0.00 sec.\n",
      "                          ------------\n",
      "Total (root+branch&cut) =    0.04 sec. (0.02 ticks)\n",
      "101\n",
      "MIP_optimal\n",
      "['x_1_1' 'x_1_2' 'x_1_3' 'x_2_1' 'x_2_2' 'x_2_3' 'y_1' 'y_2']\n",
      "[0.0, 0.0, 0.0, 100.0, 300.0, 200.0, 0.0, 1.0]\n",
      "37500.0\n"
     ]
    }
   ],
   "source": [
    "costs = np.array([27, 55, 90, 13, 48, 39])\n",
    "fixed_costs = np.array([12000, 14000])\n",
    "demands = np.array([100, 300, 200])\n",
    "\n",
    "x_star, obj_star = warehouse_location_problem(costs, fixed_costs, demands)\n",
    "print(names)\n",
    "print(x_star)\n",
    "print(obj_star)"
   ]
  }
 ],
 "metadata": {
  "kernelspec": {
   "display_name": "Python 3",
   "language": "python",
   "name": "python3"
  },
  "language_info": {
   "codemirror_mode": {
    "name": "ipython",
    "version": 3
   },
   "file_extension": ".py",
   "mimetype": "text/x-python",
   "name": "python",
   "nbconvert_exporter": "python",
   "pygments_lexer": "ipython3",
   "version": "3.7.7"
  }
 },
 "nbformat": 4,
 "nbformat_minor": 4
}
