{
 "cells": [
  {
   "cell_type": "markdown",
   "metadata": {},
   "source": [
    "# Linear Algebra and Scientific Computing Libraries\n",
    "## Mehmet Gönen\n",
    "## October 19, 2022"
   ]
  },
  {
   "cell_type": "markdown",
   "metadata": {},
   "source": [
    "The main Python package for linear algebra is the SciPy subpackage scipy.linalg which builds on NumPy. Let us import both packages:"
   ]
  },
  {
   "cell_type": "code",
   "execution_count": 6,
   "metadata": {},
   "outputs": [
    {
     "ename": "ModuleNotFoundError",
     "evalue": "No module named 'matplotlib'",
     "output_type": "error",
     "traceback": [
      "\u001b[0;31m---------------------------------------------------------------------------\u001b[0m",
      "\u001b[0;31mModuleNotFoundError\u001b[0m                       Traceback (most recent call last)",
      "\u001b[1;32m/Users/egeozlu/Downloads/Lecture 06 - Linear Algebra and Scientific Computing Libraries/linear_algebra_and_scientific_computing_libraries_2.ipynb Cell 3\u001b[0m in \u001b[0;36m<cell line: 2>\u001b[0;34m()\u001b[0m\n\u001b[1;32m      <a href='vscode-notebook-cell:/Users/egeozlu/Downloads/Lecture%2006%20-%20Linear%20Algebra%20and%20Scientific%20Computing%20Libraries/linear_algebra_and_scientific_computing_libraries_2.ipynb#W2sZmlsZQ%3D%3D?line=0'>1</a>\u001b[0m \u001b[39m# load libraries\u001b[39;00m\n\u001b[0;32m----> <a href='vscode-notebook-cell:/Users/egeozlu/Downloads/Lecture%2006%20-%20Linear%20Algebra%20and%20Scientific%20Computing%20Libraries/linear_algebra_and_scientific_computing_libraries_2.ipynb#W2sZmlsZQ%3D%3D?line=1'>2</a>\u001b[0m \u001b[39mimport\u001b[39;00m \u001b[39mmatplotlib\u001b[39;00m\u001b[39m.\u001b[39;00m\u001b[39mpyplot\u001b[39;00m \u001b[39mas\u001b[39;00m \u001b[39mplt\u001b[39;00m\n\u001b[1;32m      <a href='vscode-notebook-cell:/Users/egeozlu/Downloads/Lecture%2006%20-%20Linear%20Algebra%20and%20Scientific%20Computing%20Libraries/linear_algebra_and_scientific_computing_libraries_2.ipynb#W2sZmlsZQ%3D%3D?line=2'>3</a>\u001b[0m \u001b[39mimport\u001b[39;00m \u001b[39mnumpy\u001b[39;00m \u001b[39mas\u001b[39;00m \u001b[39mnp\u001b[39;00m\n\u001b[1;32m      <a href='vscode-notebook-cell:/Users/egeozlu/Downloads/Lecture%2006%20-%20Linear%20Algebra%20and%20Scientific%20Computing%20Libraries/linear_algebra_and_scientific_computing_libraries_2.ipynb#W2sZmlsZQ%3D%3D?line=3'>4</a>\u001b[0m \u001b[39mimport\u001b[39;00m \u001b[39mnumpy\u001b[39;00m\u001b[39m.\u001b[39;00m\u001b[39mlinalg\u001b[39;00m \u001b[39mas\u001b[39;00m \u001b[39mnla\u001b[39;00m\n",
      "\u001b[0;31mModuleNotFoundError\u001b[0m: No module named 'matplotlib'"
     ]
    }
   ],
   "source": [
    "# load libraries\n",
    "import matplotlib.pyplot as plt\n",
    "import numpy as np\n",
    "import numpy.linalg as nla\n",
    "import scipy.linalg as sla\n",
    "import scipy.sparse as sp"
   ]
  },
  {
   "cell_type": "markdown",
   "metadata": {},
   "source": [
    "## Joining and splitting arrays"
   ]
  },
  {
   "cell_type": "code",
   "execution_count": null,
   "metadata": {},
   "outputs": [],
   "source": [
    "# create two vectors\n",
    "vector1 = np.array([1, 2, 3, 4])\n",
    "vector2 = np.array([5, 6, 7, 8, 9])"
   ]
  },
  {
   "cell_type": "code",
   "execution_count": null,
   "metadata": {},
   "outputs": [
    {
     "name": "stdout",
     "output_type": "stream",
     "text": [
      "[1 2 3 4 5 6 7 8 9]\n"
     ]
    }
   ],
   "source": [
    "# combine two vectors\n",
    "combined_vector = np.concatenate((vector1, vector2))\n",
    "print(combined_vector)"
   ]
  },
  {
   "cell_type": "code",
   "execution_count": null,
   "metadata": {},
   "outputs": [],
   "source": [
    "# create two matrices\n",
    "matrix1 = np.array([[1, 2, 3],\n",
    "                    [4, 5, 6],\n",
    "                    [7, 8, 9]])\n",
    "matrix2 = np.array([[2, 4, 6],\n",
    "                    [8, 10, 12],\n",
    "                    [14, 16, 18]])"
   ]
  },
  {
   "cell_type": "code",
   "execution_count": null,
   "metadata": {},
   "outputs": [
    {
     "name": "stdout",
     "output_type": "stream",
     "text": [
      "[[ 1  2  3  2  4  6]\n",
      " [ 4  5  6  8 10 12]\n",
      " [ 7  8  9 14 16 18]]\n"
     ]
    }
   ],
   "source": [
    "# combine two matrices horizontally\n",
    "stacked_matrix = np.hstack((matrix1, matrix2))\n",
    "print(stacked_matrix)"
   ]
  },
  {
   "cell_type": "code",
   "execution_count": null,
   "metadata": {},
   "outputs": [
    {
     "name": "stdout",
     "output_type": "stream",
     "text": [
      "[[ 1  2  3]\n",
      " [ 4  5  6]\n",
      " [ 7  8  9]\n",
      " [ 2  4  6]\n",
      " [ 8 10 12]\n",
      " [14 16 18]]\n"
     ]
    }
   ],
   "source": [
    "# combine two matrices vertically\n",
    "stacked_matrix = np.vstack((matrix1, matrix2))\n",
    "print(stacked_matrix)"
   ]
  },
  {
   "cell_type": "markdown",
   "metadata": {},
   "source": [
    "## Saving an array into a file"
   ]
  },
  {
   "cell_type": "code",
   "execution_count": null,
   "metadata": {},
   "outputs": [],
   "source": [
    "# create a matrix\n",
    "written_matrix = np.array([[1, 2, 3],\n",
    "                           [4, 5, 6],\n",
    "                           [7, 8, 9]])"
   ]
  },
  {
   "cell_type": "code",
   "execution_count": null,
   "metadata": {},
   "outputs": [],
   "source": [
    "# write matrix into a csv file\n",
    "np.savetxt(\"matrix.csv\", written_matrix, delimiter = \",\")"
   ]
  },
  {
   "cell_type": "markdown",
   "metadata": {},
   "source": [
    "## Loading an array from a file"
   ]
  },
  {
   "cell_type": "code",
   "execution_count": null,
   "metadata": {},
   "outputs": [
    {
     "name": "stdout",
     "output_type": "stream",
     "text": [
      "[[1. 2. 3.]\n",
      " [4. 5. 6.]\n",
      " [7. 8. 9.]]\n"
     ]
    }
   ],
   "source": [
    "# load matrix from a csv file\n",
    "read_matrix = np.loadtxt(\"matrix.csv\", delimiter = \",\")\n",
    "print(read_matrix)"
   ]
  },
  {
   "cell_type": "markdown",
   "metadata": {},
   "source": [
    "## Matrix operations and functions\n",
    "### Arithmetic operations\n",
    "Arithmetic array operations ```+```, ```-```, ```/```, ```*``` and ```**``` are performed elementwise on NumPy arrays. Let us create a NumPy array and do some computations:"
   ]
  },
  {
   "cell_type": "code",
   "execution_count": null,
   "metadata": {},
   "outputs": [
    {
     "name": "stdout",
     "output_type": "stream",
     "text": [
      "[[ 3  4]\n",
      " [-1  5]]\n",
      "[[ 9 16]\n",
      " [ 1 25]]\n"
     ]
    }
   ],
   "source": [
    "M = np.array([[3, 4],\n",
    "              [-1, 5]])\n",
    "\n",
    "print(M)\n",
    "print(M * M)"
   ]
  },
  {
   "cell_type": "markdown",
   "metadata": {},
   "source": [
    "### Matrix multiplication\n",
    "We use the ```numpy.matmul``` function or ```@``` operator to do matrix multiplication with NumPy arrays:"
   ]
  },
  {
   "cell_type": "code",
   "execution_count": 7,
   "metadata": {},
   "outputs": [
    {
     "ename": "NameError",
     "evalue": "name 'np' is not defined",
     "output_type": "error",
     "traceback": [
      "\u001b[0;31m---------------------------------------------------------------------------\u001b[0m",
      "\u001b[0;31mNameError\u001b[0m                                 Traceback (most recent call last)",
      "\u001b[1;32m/Users/egeozlu/Downloads/Lecture 06 - Linear Algebra and Scientific Computing Libraries/linear_algebra_and_scientific_computing_libraries_2.ipynb Cell 18\u001b[0m in \u001b[0;36m<cell line: 1>\u001b[0;34m()\u001b[0m\n\u001b[0;32m----> <a href='vscode-notebook-cell:/Users/egeozlu/Downloads/Lecture%2006%20-%20Linear%20Algebra%20and%20Scientific%20Computing%20Libraries/linear_algebra_and_scientific_computing_libraries_2.ipynb#X23sZmlsZQ%3D%3D?line=0'>1</a>\u001b[0m \u001b[39mprint\u001b[39m(np\u001b[39m.\u001b[39mmatmul(M, M))\n\u001b[1;32m      <a href='vscode-notebook-cell:/Users/egeozlu/Downloads/Lecture%2006%20-%20Linear%20Algebra%20and%20Scientific%20Computing%20Libraries/linear_algebra_and_scientific_computing_libraries_2.ipynb#X23sZmlsZQ%3D%3D?line=1'>2</a>\u001b[0m \u001b[39mprint\u001b[39m(M \u001b[39m@\u001b[39m M)\n",
      "\u001b[0;31mNameError\u001b[0m: name 'np' is not defined"
     ]
    }
   ],
   "source": [
    "print(np.matmul(M, M))\n",
    "print(M @ M)"
   ]
  },
  {
   "cell_type": "markdown",
   "metadata": {},
   "source": [
    "Let us compute $\\mathbf{R} = 2\\mathbf{I} + 3\\mathbf{A} - \\mathbf{AB}$ for\n",
    "\n",
    "$\\begin{equation}\\mathbf{A} = \\begin{bmatrix}\n",
    "1 & 3 \\\\\n",
    "-1 & 7\n",
    "\\end{bmatrix}\n",
    "\\ \\ \\ \\\n",
    "\\mathbf{B} = \\begin{bmatrix}\n",
    "5 & 2 \\\\\n",
    "1 & 2\n",
    "\\end{bmatrix}\\end{equation}$\n",
    "\n",
    "and $\\mathbf{I}$ is the identity matrix of size 2:"
   ]
  },
  {
   "cell_type": "code",
   "execution_count": null,
   "metadata": {},
   "outputs": [
    {
     "name": "stdout",
     "output_type": "stream",
     "text": [
      "[[ 1  3]\n",
      " [-1  7]]\n",
      "[[5 2]\n",
      " [1 2]]\n",
      "[[1. 0.]\n",
      " [0. 1.]]\n"
     ]
    }
   ],
   "source": [
    "A = np.array([[1, 3],\n",
    "              [-1, 7]])\n",
    "print(A)\n",
    "B = np.array([[5, 2],\n",
    "              [1, 2]])\n",
    "print(B)\n",
    "I = np.eye(2)\n",
    "print(I)"
   ]
  },
  {
   "cell_type": "code",
   "execution_count": null,
   "metadata": {},
   "outputs": [
    {
     "name": "stdout",
     "output_type": "stream",
     "text": [
      "[[-3.  1.]\n",
      " [-5. 11.]]\n"
     ]
    }
   ],
   "source": [
    "R = 2 * I + 3 * A - np.matmul(A, B)\n",
    "print(R)"
   ]
  },
  {
   "cell_type": "markdown",
   "metadata": {},
   "source": [
    "### Matrix powers\n",
    "There is no symbol for matrix powers and so we must use the function ```matrix_power``` from the subpackage ```numpy.linalg```."
   ]
  },
  {
   "cell_type": "code",
   "execution_count": null,
   "metadata": {},
   "outputs": [
    {
     "name": "stdout",
     "output_type": "stream",
     "text": [
      "[[ 5 32]\n",
      " [-8 21]]\n",
      "[[ 5 32]\n",
      " [-8 21]]\n"
     ]
    }
   ],
   "source": [
    "print(nla.matrix_power(M, 2))\n",
    "print(M @ M)"
   ]
  },
  {
   "cell_type": "code",
   "execution_count": null,
   "metadata": {},
   "outputs": [
    {
     "name": "stdout",
     "output_type": "stream",
     "text": [
      "[[-1525  3236]\n",
      " [ -809    93]]\n",
      "[[-1525  3236]\n",
      " [ -809    93]]\n"
     ]
    }
   ],
   "source": [
    "print(nla.matrix_power(M, 5))\n",
    "print(M @ M @ M @ M @ M)"
   ]
  },
  {
   "cell_type": "markdown",
   "metadata": {},
   "source": [
    "### Tranpose\n",
    "We can take the transpose with ```.T``` attribute:"
   ]
  },
  {
   "cell_type": "code",
   "execution_count": null,
   "metadata": {},
   "outputs": [
    {
     "name": "stdout",
     "output_type": "stream",
     "text": [
      "[[ 3  4]\n",
      " [-1  5]]\n",
      "[[ 3 -1]\n",
      " [ 4  5]]\n"
     ]
    }
   ],
   "source": [
    "print(M)\n",
    "print(M.T)"
   ]
  },
  {
   "cell_type": "markdown",
   "metadata": {},
   "source": [
    "Notice that $\\mathbf{M}\\mathbf{M}^{\\top}$ is a symmetric matrix:"
   ]
  },
  {
   "cell_type": "code",
   "execution_count": 8,
   "metadata": {},
   "outputs": [
    {
     "ename": "NameError",
     "evalue": "name 'M' is not defined",
     "output_type": "error",
     "traceback": [
      "\u001b[0;31m---------------------------------------------------------------------------\u001b[0m",
      "\u001b[0;31mNameError\u001b[0m                                 Traceback (most recent call last)",
      "\u001b[1;32m/Users/egeozlu/Downloads/Lecture 06 - Linear Algebra and Scientific Computing Libraries/linear_algebra_and_scientific_computing_libraries_2.ipynb Cell 28\u001b[0m in \u001b[0;36m<cell line: 1>\u001b[0;34m()\u001b[0m\n\u001b[0;32m----> <a href='vscode-notebook-cell:/Users/egeozlu/Downloads/Lecture%2006%20-%20Linear%20Algebra%20and%20Scientific%20Computing%20Libraries/linear_algebra_and_scientific_computing_libraries_2.ipynb#X36sZmlsZQ%3D%3D?line=0'>1</a>\u001b[0m \u001b[39mprint\u001b[39m(M \u001b[39m@\u001b[39m M\u001b[39m.\u001b[39mT)\n",
      "\u001b[0;31mNameError\u001b[0m: name 'M' is not defined"
     ]
    }
   ],
   "source": [
    "print(M @ M.T)"
   ]
  },
  {
   "cell_type": "markdown",
   "metadata": {},
   "source": [
    "### Inverse\n",
    "We can find the inverse using the function ```scipy.linalg.inv```:"
   ]
  },
  {
   "cell_type": "code",
   "execution_count": null,
   "metadata": {},
   "outputs": [
    {
     "name": "stdout",
     "output_type": "stream",
     "text": [
      "[[1 2]\n",
      " [3 4]]\n",
      "[[-2.   1. ]\n",
      " [ 1.5 -0.5]]\n",
      "[[1 2]\n",
      " [3 4]]\n",
      "[[1.0000000e+00 0.0000000e+00]\n",
      " [8.8817842e-16 1.0000000e+00]]\n",
      "[[1.00000000e+00 0.00000000e+00]\n",
      " [1.11022302e-16 1.00000000e+00]]\n"
     ]
    }
   ],
   "source": [
    "A = np.array([[1, 2],\n",
    "              [3, 4]])\n",
    "print(A)\n",
    "print(sla.inv(A))\n",
    "\n",
    "print(A)\n",
    "print(A @ sla.inv(A))\n",
    "print(sla.inv(A) @ A)"
   ]
  },
  {
   "cell_type": "markdown",
   "metadata": {},
   "source": [
    "### Trace\n",
    "We can find the trace of a matrix using the function ```numpy.trace```:"
   ]
  },
  {
   "cell_type": "code",
   "execution_count": null,
   "metadata": {},
   "outputs": [
    {
     "name": "stdout",
     "output_type": "stream",
     "text": [
      "5\n"
     ]
    }
   ],
   "source": [
    "print(np.trace(A))"
   ]
  },
  {
   "cell_type": "markdown",
   "metadata": {},
   "source": [
    "### Determinant\n",
    "We find the determinant using the function ```scipy.linalg.det```:"
   ]
  },
  {
   "cell_type": "code",
   "execution_count": null,
   "metadata": {},
   "outputs": [
    {
     "name": "stdout",
     "output_type": "stream",
     "text": [
      "[[1 2]\n",
      " [3 4]]\n",
      "-2.0\n"
     ]
    }
   ],
   "source": [
    "A = np.array([[1, 2],\n",
    "              [3, 4]])\n",
    "print(A)\n",
    "print(sla.det(A))"
   ]
  },
  {
   "cell_type": "markdown",
   "metadata": {},
   "source": [
    "## Solving linear systems\n",
    "### Linear systems\n",
    "A linear system of equations is a collection of linear equations\n",
    "\n",
    "$\\begin{align}\n",
    "a_{0,0}x_0 + a_{0,1}x_1 + \\cdots + a_{0,n}x_n & = b_0 \\\\\n",
    "a_{1,0}x_0 + a_{1,1}x_1 + \\cdots + a_{1,n}x_n & = b_1 \\\\\n",
    "& \\vdots \\\\\n",
    "a_{m,0}x_0 + a_{m,1}x_1 + \\cdots + a_{m,n}x_n & = b_m \\\\\n",
    "\\end{align}$\n",
    "\n",
    "In matrix notation, a linear system is $\\mathbf{A} \\boldsymbol{x} = \\boldsymbol{b}$ where\n",
    "\n",
    "$\\mathbf{A} = \\begin{bmatrix}\n",
    "a_{0,0} & a_{0,1} & \\cdots & a_{0,n} \\\\\n",
    "a_{1,0} & a_{1,1} & \\cdots & a_{1,n} \\\\\n",
    "\\vdots & & & \\vdots \\\\\n",
    "a_{m,0} & a_{m,1} & \\cdots & a_{m,n} \\\\\n",
    "\\end{bmatrix}, \\ \\ \\ \\ \n",
    "\\boldsymbol{x} = \\begin{bmatrix}\n",
    "x_0 \\\\ x_1 \\\\ \\vdots \\\\ x_n\n",
    "\\end{bmatrix}, \\ \\ \\ \\ \n",
    "\\boldsymbol{b} = \\begin{bmatrix}\n",
    "b_0 \\\\ b_1 \\\\ \\vdots \\\\ b_m\n",
    "\\end{bmatrix}$\n",
    "\n",
    "We are mostly interested in linear systems $\\mathbf{A} \\boldsymbol{x} = \\boldsymbol{b}$ where there is a unique solution $\\boldsymbol{x}$. This is the case when $\\mathbf{A}$ is a square matrix ($m = n$) and \n",
    "$\\det(\\mathbf{A}) \\neq 0$. To solve such a system, we can use the function ```scipy.linalg.solve```.\n",
    "\n",
    "The function returns a solution of the system of equations $\\mathbf{A} \\boldsymbol{x} = \\boldsymbol{b}$. For example:"
   ]
  },
  {
   "cell_type": "code",
   "execution_count": null,
   "metadata": {},
   "outputs": [
    {
     "name": "stdout",
     "output_type": "stream",
     "text": [
      "[[ 1  1]\n",
      " [ 1 -1]]\n",
      "[2 0]\n",
      "[1. 1.]\n"
     ]
    }
   ],
   "source": [
    "A = np.array([[1, 1],\n",
    "              [1, -1]])\n",
    "print(A)\n",
    "b = np.array([2,0])\n",
    "print(b)\n",
    "x = sla.solve(A, b)\n",
    "print(x)"
   ]
  },
  {
   "cell_type": "markdown",
   "metadata": {},
   "source": [
    "Note that the output is returned as a 1D NumPy array when the vector $\\boldsymbol{b}$ (the right hand side) is entered as a 1D NumPy array. If we input $\\boldsymbol{b}$ as a 2D NumPy array, then the output is a 2D NumPy array. For example:"
   ]
  },
  {
   "cell_type": "code",
   "execution_count": null,
   "metadata": {},
   "outputs": [
    {
     "name": "stdout",
     "output_type": "stream",
     "text": [
      "[[ 1  1]\n",
      " [ 1 -1]]\n",
      "[[2]\n",
      " [0]]\n",
      "[[1.]\n",
      " [1.]]\n"
     ]
    }
   ],
   "source": [
    "A = np.array([[1, 1],\n",
    "              [1, -1]])\n",
    "print(A)\n",
    "b = np.array([[2],\n",
    "              [0]])\n",
    "print(b)\n",
    "x = sla.solve(A, b)\n",
    "print(x)"
   ]
  },
  {
   "cell_type": "markdown",
   "metadata": {},
   "source": [
    "### Simple Example\n",
    "Let us compute the solution of the system of equations\n",
    "\n",
    "$\\begin{align}\n",
    "2x + y &= 1 \\\\\n",
    "x + y &= 1\n",
    "\\end{align}$\n",
    "\n",
    "Create the matrix of coefficients $\\mathbf{A}$ and the vector $\\boldsymbol{b}$:"
   ]
  },
  {
   "cell_type": "code",
   "execution_count": null,
   "metadata": {},
   "outputs": [
    {
     "name": "stdout",
     "output_type": "stream",
     "text": [
      "[[2 1]\n",
      " [1 1]]\n",
      "[[1]\n",
      " [1]]\n"
     ]
    }
   ],
   "source": [
    "A = np.array([[2, 1],\n",
    "              [1, 1]])\n",
    "print(A)\n",
    "b = np.array([[1],\n",
    "              [1]])\n",
    "print(b)"
   ]
  },
  {
   "cell_type": "code",
   "execution_count": null,
   "metadata": {},
   "outputs": [
    {
     "name": "stdout",
     "output_type": "stream",
     "text": [
      "[[0.]\n",
      " [1.]]\n"
     ]
    }
   ],
   "source": [
    "x = sla.solve(A, b)\n",
    "print(x)"
   ]
  },
  {
   "cell_type": "markdown",
   "metadata": {},
   "source": [
    "We can verify the solution by computing the inverse of $\\mathbf{A}$:"
   ]
  },
  {
   "cell_type": "code",
   "execution_count": null,
   "metadata": {},
   "outputs": [
    {
     "name": "stdout",
     "output_type": "stream",
     "text": [
      "[[ 1. -1.]\n",
      " [-1.  2.]]\n"
     ]
    }
   ],
   "source": [
    "Ainv = sla.inv(A)\n",
    "print(Ainv)"
   ]
  },
  {
   "cell_type": "markdown",
   "metadata": {},
   "source": [
    "and multiply $\\mathbf{A}^{-1}\\boldsymbol{b}$ to solve for $\\boldsymbol{x}$:"
   ]
  },
  {
   "cell_type": "code",
   "execution_count": null,
   "metadata": {},
   "outputs": [
    {
     "name": "stdout",
     "output_type": "stream",
     "text": [
      "[[0.]\n",
      " [1.]]\n"
     ]
    }
   ],
   "source": [
    "x = np.matmul(Ainv, b)\n",
    "print(x)"
   ]
  },
  {
   "cell_type": "markdown",
   "metadata": {},
   "source": [
    "### Inverse or solve\n",
    "It is a bad idea to use the inverse $\\mathbf{A}^{-1}$ to solve $\\mathbf{A}\\boldsymbol{x} = \\boldsymbol{b}$ if $\\mathbf{A}$ is large. It is too computationally expensive. Let us create a large random matrix $\\mathbf{A}$ and vector $\\boldsymbol{b}$ and compute the solution $\\boldsymbol{x}$ in two ways:"
   ]
  },
  {
   "cell_type": "code",
   "execution_count": null,
   "metadata": {},
   "outputs": [],
   "source": [
    "N = 1000\n",
    "A = np.random.rand(N, N)\n",
    "b = np.random.rand(N, 1)"
   ]
  },
  {
   "cell_type": "markdown",
   "metadata": {},
   "source": [
    "Now we compare the speed of ```scipy.linalg.solve``` with ```scipy.linalg.inv```:"
   ]
  },
  {
   "cell_type": "code",
   "execution_count": null,
   "metadata": {},
   "outputs": [
    {
     "name": "stdout",
     "output_type": "stream",
     "text": [
      "17 ms ± 522 µs per loop (mean ± std. dev. of 7 runs, 100 loops each)\n"
     ]
    }
   ],
   "source": [
    "%%timeit\n",
    "x = sla.solve(A, b)"
   ]
  },
  {
   "cell_type": "code",
   "execution_count": null,
   "metadata": {},
   "outputs": [
    {
     "name": "stdout",
     "output_type": "stream",
     "text": [
      "38.9 ms ± 1.64 ms per loop (mean ± std. dev. of 7 runs, 10 loops each)\n"
     ]
    }
   ],
   "source": [
    "%%timeit\n",
    "x = np.matmul(sla.inv(A), b)"
   ]
  },
  {
   "cell_type": "markdown",
   "metadata": {},
   "source": [
    "Solving with ```scipy.linalg.solve``` is about twice as fast!"
   ]
  },
  {
   "cell_type": "markdown",
   "metadata": {},
   "source": [
    "## Sparse matrices\n",
    "\n",
    "### Introduction\n",
    "(dense) matrix is:\n",
    "- mathematical object\n",
    "- data structure for storing a 2D array of values\n",
    "\n",
    "important features:\n",
    "- memory allocated once for all items\n",
    "    - usually a contiguous chunk, think NumPy ndarray\n",
    "- fast access to individual items\n",
    "\n"
   ]
  },
  {
   "cell_type": "markdown",
   "metadata": {},
   "source": [
    "### Why sparse matrices?\n",
    "- the memory, that grows like n**2\n",
    "- small example (double precision matrix):"
   ]
  },
  {
   "cell_type": "code",
   "execution_count": null,
   "metadata": {},
   "outputs": [
    {
     "data": {
      "image/png": "[encoded data removed]",
      "text/plain": [
       "<Figure size 800x800 with 1 Axes>"
      ]
     },
     "metadata": {},
     "output_type": "display_data"
    }
   ],
   "source": [
    "x = np.linspace(0, 1e6, 100)\n",
    "\n",
    "plt.figure(figsize = (8, 8))\n",
    "plt.plot(x, 8.0 * (x**2) / 1e6)    \n",
    "plt.xlabel(\"size (n)\")    \n",
    "plt.ylabel(\"memory [MB]\")  \n",
    "plt.show()"
   ]
  },
  {
   "cell_type": "markdown",
   "metadata": {},
   "source": [
    "### Sparse matrices vs. sparse matrix storage schemes\n",
    "- sparse matrix is a matrix, which is *almost empty*\n",
    "- storing all the zeros is wasteful -> store only nonzero items\n",
    "- think **compression**\n",
    "- pros: huge memory savings\n",
    "- cons: depends on actual storage scheme"
   ]
  },
  {
   "cell_type": "markdown",
   "metadata": {},
   "source": [
    "### Storage schemes\n",
    "- seven sparse matrix types in scipy.sparse:\n",
    "    1. csc_matrix: Compressed Sparse Column format\n",
    "    2. csr_matrix: Compressed Sparse Row format\n",
    "    3. bsr_matrix: Block Sparse Row format\n",
    "    4. lil_matrix: List of Lists format\n",
    "    5. dok_matrix: Dictionary of Keys format\n",
    "    6. coo_matrix: COOrdinate format (aka IJV, triplet format)\n",
    "    7. dia_matrix: DIAgonal format\n",
    "- each suitable for some tasks"
   ]
  },
  {
   "cell_type": "markdown",
   "metadata": {},
   "source": [
    "### Common Methods\n",
    "- all scipy.sparse classes are subclasses of **spmatrix**\n",
    "    - default implementation of arithmetic operations\n",
    "        - always converts to CSR\n",
    "        - subclasses override for efficiency\n",
    "    - shape, data type set/get\n",
    "    - nonzero indices\n",
    "    - format conversion, interaction with NumPy (*toarray()*, *todense()*)\n",
    "- attributes:\n",
    "    - *mtx.A* - same as mtx.toarray()\n",
    "    - *mtx.T* - transpose (same as mtx.transpose())\n",
    "    - *mtx.size* - the number of nonzeros (same as self.getnnz())\n",
    "    - *mtx.shape* - the number of rows and columns (tuple)\n",
    "- data usually stored in NumPy arrays"
   ]
  },
  {
   "cell_type": "markdown",
   "metadata": {},
   "source": [
    "### Compressed sparse row format (CSR)\n",
    "- row oriented\n",
    "    - three NumPy arrays: indices, indptr, data\n",
    "        - indices is array of column indices\n",
    "        - data is array of corresponding nonzero values\n",
    "        - indptr points to row starts in indices and data        \n",
    "- fast matrix vector products and other arithmetics (sparsetools)\n",
    "- constructor accepts:\n",
    "    - dense matrix (array)\n",
    "    - sparse matrix\n",
    "    - shape tuple (create empty matrix)\n",
    "    - (data, ij) tuple\n",
    "    - (data, indices, indptr) tuple\n",
    "- efficient row slicing, row-oriented operations\n",
    "- slow column slicing, expensive changes to the sparsity structure"
   ]
  },
  {
   "cell_type": "code",
   "execution_count": null,
   "metadata": {},
   "outputs": [
    {
     "name": "stdout",
     "output_type": "stream",
     "text": [
      "[[0 0 0 0]\n",
      " [0 0 0 0]\n",
      " [0 0 0 0]]\n"
     ]
    }
   ],
   "source": [
    "# create empty CSR matrix:\n",
    "mtx = sp.csr_matrix((3, 4), dtype = np.int8)\n",
    "print(mtx.toarray())"
   ]
  },
  {
   "cell_type": "code",
   "execution_count": null,
   "metadata": {},
   "outputs": [
    {
     "name": "stdout",
     "output_type": "stream",
     "text": [
      "  (0, 0)\t1\n",
      "  (0, 2)\t2\n",
      "  (1, 2)\t3\n",
      "  (2, 0)\t4\n",
      "  (2, 1)\t5\n",
      "  (2, 2)\t6\n",
      "[[1 0 2]\n",
      " [0 0 3]\n",
      " [4 5 6]]\n",
      "[1 2 3 4 5 6]\n",
      "[0 2 2 0 1 2]\n",
      "[0 2 3 6]\n"
     ]
    }
   ],
   "source": [
    "# create using (data, ij) tuple:\n",
    "row = np.array([0, 0, 1, 2, 2, 2])\n",
    "col = np.array([0, 2, 2, 0, 1, 2])\n",
    "data = np.array([1, 2, 3, 4, 5, 6])\n",
    "mtx = sp.csr_matrix((data, (row, col)), shape = (3, 3))\n",
    "\n",
    "print(mtx)\n",
    "\n",
    "print(mtx.toarray())\n",
    "\n",
    "print(mtx.data)\n",
    "\n",
    "print(mtx.indices)\n",
    "\n",
    "print(mtx.indptr)"
   ]
  },
  {
   "cell_type": "code",
   "execution_count": null,
   "metadata": {},
   "outputs": [
    {
     "name": "stdout",
     "output_type": "stream",
     "text": [
      "  (0, 0)\t1\n",
      "  (0, 2)\t2\n",
      "  (1, 2)\t3\n",
      "  (2, 0)\t4\n",
      "  (2, 1)\t5\n",
      "  (2, 2)\t6\n",
      "[[1 0 2]\n",
      " [0 0 3]\n",
      " [4 5 6]]\n",
      "[1 2 3 4 5 6]\n",
      "[0 2 2 0 1 2]\n",
      "[0 2 3 6]\n"
     ]
    }
   ],
   "source": [
    "# create using (data, indices, indptr) tuple:\n",
    "data = np.array([1, 2, 3, 4, 5, 6])\n",
    "indices = np.array([0, 2, 2, 0, 1, 2])\n",
    "indptr = np.array([0, 2, 3, 6])\n",
    "mtx = sp.csr_matrix((data, indices, indptr), shape=(3, 3))\n",
    "\n",
    "print(mtx)\n",
    "\n",
    "print(mtx.toarray())\n",
    "\n",
    "print(mtx.data)\n",
    "\n",
    "print(mtx.indices)\n",
    "\n",
    "print(mtx.indptr)"
   ]
  },
  {
   "cell_type": "markdown",
   "metadata": {},
   "source": [
    "### Visualizing sparse matrices\n",
    "You can use ```spy``` function in ```matplotlib``` package."
   ]
  },
  {
   "cell_type": "code",
   "execution_count": null,
   "metadata": {},
   "outputs": [
    {
     "data": {
      "image/png": "[encoded data removed]",
      "text/plain": [
       "<Figure size 800x800 with 1 Axes>"
      ]
     },
     "metadata": {},
     "output_type": "display_data"
    }
   ],
   "source": [
    "plt.figure(figsize = (8, 8))\n",
    "plt.spy(mtx, marker = \"o\")\n",
    "plt.show()"
   ]
  },
  {
   "cell_type": "code",
   "execution_count": null,
   "metadata": {},
   "outputs": [
    {
     "data": {
      "image/png": "[encoded data removed]",
      "text/plain": [
       "<Figure size 800x800 with 1 Axes>"
      ]
     },
     "metadata": {},
     "output_type": "display_data"
    }
   ],
   "source": [
    "A = np.ones((100, 100))\n",
    "B = np.eye(100, 100)\n",
    "C = np.ones((100, 100))\n",
    "mtx = sp.block_diag((A, B, C))\n",
    "\n",
    "plt.figure(figsize = (8, 8))\n",
    "plt.spy(mtx, marker = \".\")\n",
    "plt.show()"
   ]
  }
 ],
 "metadata": {
  "celltoolbar": "Raw Cell Format",
  "kernelspec": {
   "display_name": "Python 3.10.2 64-bit",
   "language": "python",
   "name": "python3"
  },
  "language_info": {
   "codemirror_mode": {
    "name": "ipython",
    "version": 3
   },
   "file_extension": ".py",
   "mimetype": "text/x-python",
   "name": "python",
   "nbconvert_exporter": "python",
   "pygments_lexer": "ipython3",
   "version": "3.10.2"
  },
  "vscode": {
   "interpreter": {
    "hash": "aee8b7b246df8f9039afb4144a1f6fd8d2ca17a180786b69acc140d282b71a49"
   }
  }
 },
 "nbformat": 4,
 "nbformat_minor": 4
}
