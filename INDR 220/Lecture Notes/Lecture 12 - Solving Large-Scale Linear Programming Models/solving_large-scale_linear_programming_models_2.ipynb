{
 "cells": [
  {
   "cell_type": "markdown",
   "metadata": {},
   "source": [
    "# Solving Large-Scale Linear Programming Models\n",
    "## Mehmet Gönen\n",
    "## November 9, 2022"
   ]
  },
  {
   "cell_type": "code",
   "execution_count": 1,
   "metadata": {},
   "outputs": [],
   "source": [
    "# load libraries\n",
    "import numpy as np\n",
    "import scipy.sparse as sp\n",
    "import cplex as cp"
   ]
  },
  {
   "cell_type": "code",
   "execution_count": 2,
   "metadata": {},
   "outputs": [],
   "source": [
    "def linear_programming(direction, A, senses, b, c, l, u):\n",
    "    # create an empty optimization problem\n",
    "    prob = cp.Cplex()\n",
    "\n",
    "    # add decision variables to the problem including their coefficients in objective and ranges\n",
    "    prob.variables.add(obj = c.tolist(), lb = l.tolist(), ub = u.tolist())\n",
    "\n",
    "    # define problem type\n",
    "    if direction == \"maximize\":\n",
    "        prob.objective.set_sense(prob.objective.sense.maximize)\n",
    "    else:\n",
    "        prob.objective.set_sense(prob.objective.sense.minimize)\n",
    "\n",
    "    # add constraints to the problem including their directions and right-hand side values\n",
    "    prob.linear_constraints.add(senses = senses.tolist(), rhs = b.tolist())\n",
    "\n",
    "    # add coefficients for each constraint\n",
    "    row_indices, col_indices = A.nonzero()\n",
    "    prob.linear_constraints.set_coefficients(zip(row_indices.tolist(),\n",
    "                                                 col_indices.tolist(),\n",
    "                                                 A.data.tolist()))\n",
    "\n",
    "    # solve the problem\n",
    "    prob.solve()\n",
    "\n",
    "    # check the solution status\n",
    "    print(prob.solution.get_status())\n",
    "    print(prob.solution.status[prob.solution.get_status()])\n",
    "\n",
    "    # get the solution\n",
    "    x_star = prob.solution.get_values()\n",
    "    obj_star = prob.solution.get_objective_value()\n",
    "\n",
    "    return(x_star, obj_star)"
   ]
  },
  {
   "cell_type": "markdown",
   "metadata": {},
   "source": [
    "## The multicommodity flow problem\n",
    "\n",
    "Let $\\mathcal{G} = (\\mathcal{V}, \\mathcal{A})$ be a directed graph, and let $\\mathcal{K}$ be a set of commodities. For each link $(i, j) \\in \\mathcal{A}$ and each commodity $k$, associate a cost per unit of flow, designated by $c_{ij}^{k}$. The demand (or supply) at each node $i \\in \\mathcal{V}$ for commodity $k$ is designated as $b_{i}^{k}$, where $b_{i}^{k} > 0$ denotes a supply node and $b_{i}^{k} < 0$ denotes a demand node. Define decision variables $x_{ij}^{k}$ that denote the amount of commodity $k$ sent from node $i$ and node $j$. The amount of total flow, across all commodities, that can be sent across each link is bounded above by $u_{ij}$.\n",
    "\n",
    "The problem can be modeled as a linear programming problem as follows:\n",
    "\\begin{align*}\n",
    "\\mbox{minimize} \\;\\;& \\sum\\limits_{(i, j) \\in \\mathcal{A}} \\sum\\limits_{k \\in \\mathcal{K}} c_{ij}^{k} x_{ij}^{k} \\\\\n",
    "\\mbox{subject to:} \\;\\;& \\sum\\limits_{(i, j) \\in \\mathcal{A}} x_{ij}^{k} - \\sum\\limits_{(j, i) \\in \\mathcal{A}} x_{ji}^{k} = b_{i}^{k} \\;\\;\\;\\; i \\in \\mathcal{V} \\;\\;\\;\\; k \\in \\mathcal{K} \\\\\n",
    "\\;\\;& \\sum\\limits_{k \\in \\mathcal{K}} x_{ij}^{k} \\leq u_{ij} \\;\\;\\;\\; (i, j) \\in \\mathcal{A} \\\\\n",
    "\\;\\;& x_{ij}^{k} \\geq 0 \\;\\;\\;\\; (i, j) \\in \\mathcal{A} \\;\\;\\;\\; k \\in \\mathcal{K}.\n",
    "\\end{align*}\n",
    "In this formulation, the balance constraints ensure that the flow of commodities leaving each supply node and entering each demand node are balanced. The capacity constraints limit the total flow across all commodities on each arc."
   ]
  },
  {
   "cell_type": "markdown",
   "metadata": {},
   "source": [
    "In this formulation, the balance constraints ensure that the flow of commodities leaving each supply node and entering each demand node are balanced. The capacity constraints limit the total flow across all commodities on each arc."
   ]
  },
  {
   "cell_type": "code",
   "execution_count": 3,
   "metadata": {
    "scrolled": false
   },
   "outputs": [],
   "source": [
    "def multicommodity_flow_problem(costs_file, capacities_file, flows_file):\n",
    "    costs = np.loadtxt(costs_file)\n",
    "    capacities = np.loadtxt(capacities_file)\n",
    "    flows = np.loadtxt(flows_file)\n",
    "\n",
    "    E = capacities.shape[0]\n",
    "    K = costs.shape[0] // capacities.shape[0]\n",
    "    V = flows.shape[0] // K\n",
    "\n",
    "    c = costs[:, 3]\n",
    "    senses = np.concatenate((np.repeat(\"E\", V * K), np.repeat(\"L\", E)))\n",
    "    b = np.concatenate((flows[:, 2], capacities[:, 2]))\n",
    "    l = np.repeat(0, E * K)\n",
    "    u = np.repeat(cp.infinity, E * K)\n",
    "\n",
    "    aij = np.concatenate((np.repeat([+1.0, -1.0], E * K), np.repeat(+1.0, E * K)))\n",
    "    row = np.concatenate((costs[:, 0].astype(int) - 1 + (costs[:, 2].astype(int) - 1) * V, \n",
    "                          costs[:, 1].astype(int) - 1 + (costs[:, 2].astype(int) - 1) * V,\n",
    "                          V * K + np.repeat(range(E), K)))\n",
    "    col = np.concatenate((range(E * K), range(E * K), np.array(range(E * K)).reshape(K, E).T.flatten()))\n",
    "    A = sp.csr_matrix((aij, (row, col)), shape = (V * K + E, E * K))\n",
    "\n",
    "    #import matplotlib.pyplot as plt\n",
    "    #plt.figure(figsize = (6.4, 7.0))\n",
    "    #plt.spy(A, marker = \"o\", markersize = 6)\n",
    "    #plt.show()\n",
    "\n",
    "    x_star, obj_star = linear_programming(\"minimize\", A, senses, b, c, l, u)\n",
    "    return(x_star, obj_star)"
   ]
  },
  {
   "cell_type": "code",
   "execution_count": 4,
   "metadata": {},
   "outputs": [
    {
     "name": "stdout",
     "output_type": "stream",
     "text": [
      "Version identifier: 22.1.0.0 | 2022-03-27 | 54982fbec\n",
      "CPXPARAM_Read_DataCheck                          1\n",
      "Tried aggregator 1 time.\n",
      "LP Presolve eliminated 3 rows and 0 columns.\n",
      "Aggregator did 4 substitutions.\n",
      "Reduced LP has 10 rows, 10 columns, and 30 nonzeros.\n",
      "Presolve time = 0.00 sec. (0.02 ticks)\n",
      "Symmetry aggregator did 8 additional substitutions.\n",
      "\n",
      "Iteration log . . .\n",
      "Iteration:     1   Dual objective     =           820.000000\n",
      "\n",
      "Dual crossover.\n",
      "  Dual:  Fixed no variables.\n",
      "  Primal:  Fixing 1 variable.\n",
      "        0 PMoves:  Infeasibility  0.00000000e+00  Objective  9.80000000e+02\n",
      "  Primal:  Pushed 0, exchanged 1.\n",
      "1\n",
      "optimal\n",
      "[0.0, 30.0, 20.0, 40.0, 70.0, 0.0, 10.0, 0.0, 50.0, 0.0, 40.0, 90.0, 0.0, 30.0]\n",
      "980.0\n"
     ]
    }
   ],
   "source": [
    "x_star, obj_star = multicommodity_flow_problem(\"costs2.txt\", \"capacities2.txt\", \"flows2.txt\")\n",
    "print(x_star)\n",
    "print(obj_star)"
   ]
  },
  {
   "cell_type": "code",
   "execution_count": 5,
   "metadata": {},
   "outputs": [
    {
     "name": "stdout",
     "output_type": "stream",
     "text": [
      "Version identifier: 22.1.0.0 | 2022-03-27 | 54982fbec\n",
      "CPXPARAM_Read_DataCheck                          1\n",
      "Tried aggregator 1 time.\n",
      "LP Presolve eliminated 3 rows and 0 columns.\n",
      "Aggregator did 10 substitutions.\n",
      "Reduced LP has 19 rows, 25 columns, and 75 nonzeros.\n",
      "Presolve time = 0.00 sec. (0.04 ticks)\n",
      "Symmetry aggregator did 32 additional substitutions.\n",
      "\n",
      "Iteration log . . .\n",
      "Iteration:     1   Dual objective     =          2050.000000\n",
      "\n",
      "Dual crossover.\n",
      "  Dual:  Fixed no variables.\n",
      "  Primal:  Fixing 4 variables.\n",
      "        3 PMoves:  Infeasibility  0.00000000e+00  Objective  2.45000000e+03\n",
      "        0 PMoves:  Infeasibility  0.00000000e+00  Objective  2.45000000e+03\n",
      "  Primal:  Pushed 1, exchanged 3.\n",
      "1\n",
      "optimal\n",
      "[0.0, 30.0, 20.0, 40.0, 70.0, 0.0, 10.0, 0.0, 50.0, 0.0, 40.0, 90.0, 0.0, 30.0, 0.0, 20.0, 30.0, 40.0, 60.0, 0.0, 0.0, 0.0, 50.0, 0.0, 40.0, 90.0, 0.0, 30.0, 0.0, 50.0, 0.0, 40.0, 90.0, 0.0, 30.0]\n",
      "2450.0\n"
     ]
    }
   ],
   "source": [
    "x_star, obj_star = multicommodity_flow_problem(\"costs5.txt\", \"capacities5.txt\", \"flows5.txt\")\n",
    "print(x_star)\n",
    "print(obj_star)"
   ]
  },
  {
   "cell_type": "code",
   "execution_count": 6,
   "metadata": {},
   "outputs": [
    {
     "name": "stdout",
     "output_type": "stream",
     "text": [
      "Version identifier: 22.1.0.0 | 2022-03-27 | 54982fbec\n",
      "CPXPARAM_Read_DataCheck                          1\n",
      "Tried aggregator 1 time.\n",
      "LP Presolve eliminated 3 rows and 0 columns.\n",
      "Aggregator did 50 substitutions.\n",
      "Reduced LP has 79 rows, 125 columns, and 375 nonzeros.\n",
      "Presolve time = 0.00 sec. (0.19 ticks)\n",
      "Symmetry aggregator did 192 additional substitutions.\n",
      "\n",
      "Iteration log . . .\n",
      "Iteration:     1   Dual objective     =         10250.000000\n",
      "\n",
      "Dual crossover.\n",
      "  Dual:  Fixed no variables.\n",
      "  Primal:  Fixing 24 variables.\n",
      "       23 PMoves:  Infeasibility  0.00000000e+00  Objective  1.22500000e+04\n",
      "        0 PMoves:  Infeasibility  0.00000000e+00  Objective  1.22500000e+04\n",
      "  Primal:  Pushed 8, exchanged 16.\n",
      "1\n",
      "optimal\n",
      "[0.0, 40.0, 10.0, 40.0, 80.0, 0.0, 20.0, 0.0, 20.0, 30.0, 40.0, 60.0, 0.0, 0.0, 0.0, 50.0, 0.0, 40.0, 90.0, 0.0, 30.0, 0.0, 50.0, 0.0, 40.0, 90.0, 0.0, 30.0, 0.0, 20.0, 30.0, 40.0, 60.0, 0.0, 0.0, 0.0, 50.0, 0.0, 40.0, 90.0, 0.0, 30.0, 0.0, 50.0, 0.0, 40.0, 90.0, 0.0, 30.0, 0.0, 20.0, 30.0, 40.0, 60.0, 0.0, 0.0, 0.0, 50.0, 0.0, 40.0, 90.0, 0.0, 30.0, 0.0, 50.0, 0.0, 40.0, 90.0, 0.0, 30.0, 0.0, 20.0, 30.0, 40.0, 60.0, 0.0, 0.0, 0.0, 50.0, 0.0, 40.0, 90.0, 0.0, 30.0, 0.0, 50.0, 0.0, 40.0, 90.0, 0.0, 30.0, 0.0, 20.0, 30.0, 40.0, 60.0, 0.0, 0.0, 0.0, 50.0, 0.0, 40.0, 90.0, 0.0, 30.0, 0.0, 50.0, 0.0, 40.0, 90.0, 0.0, 30.0, 0.0, 20.0, 30.0, 40.0, 60.0, 0.0, 0.0, 0.0, 50.0, 0.0, 40.0, 90.0, 0.0, 30.0, 0.0, 50.0, 0.0, 40.0, 90.0, 0.0, 30.0, 0.0, 20.0, 30.0, 40.0, 60.0, 0.0, 0.0, 0.0, 50.0, 0.0, 40.0, 90.0, 0.0, 30.0, 0.0, 50.0, 0.0, 40.0, 90.0, 0.0, 30.0, 0.0, 20.0, 30.0, 40.0, 60.0, 0.0, 0.0, 0.0, 50.0, 0.0, 40.0, 90.0, 0.0, 30.0, 0.0, 50.0, 0.0, 40.0, 90.0, 0.0, 30.0]\n",
      "12250.0\n"
     ]
    }
   ],
   "source": [
    "x_star, obj_star = multicommodity_flow_problem(\"costs25.txt\", \"capacities25.txt\", \"flows25.txt\")\n",
    "print(x_star)\n",
    "print(obj_star)"
   ]
  }
 ],
 "metadata": {
  "kernelspec": {
   "display_name": "Python 3.10.2 64-bit",
   "language": "python",
   "name": "python3"
  },
  "language_info": {
   "codemirror_mode": {
    "name": "ipython",
    "version": 3
   },
   "file_extension": ".py",
   "mimetype": "text/x-python",
   "name": "python",
   "nbconvert_exporter": "python",
   "pygments_lexer": "ipython3",
   "version": "3.10.2"
  },
  "vscode": {
   "interpreter": {
    "hash": "7e1998ff7f8aa20ada591c520b972326324e5ea05489af9e422744c7c09f6dad"
   }
  }
 },
 "nbformat": 4,
 "nbformat_minor": 4
}
