{
 "cells": [
  {
   "cell_type": "markdown",
   "metadata": {},
   "source": [
    "# Introduction to Commercial Optimization Solvers\n",
    "## Mehmet Gönen\n",
    "## October 26, 2022"
   ]
  },
  {
   "cell_type": "code",
   "execution_count": 1,
   "metadata": {},
   "outputs": [],
   "source": [
    "# load libraries\n",
    "import numpy as np\n",
    "import scipy.sparse as sp\n",
    "\n",
    "import cplex as cp"
   ]
  },
  {
   "cell_type": "markdown",
   "metadata": {},
   "source": [
    "### Method 3"
   ]
  },
  {
   "cell_type": "code",
   "execution_count": 2,
   "metadata": {},
   "outputs": [],
   "source": [
    "def linear_programming(direction, A, senses, b, c, l, u):\n",
    "    # create an empty optimization problem\n",
    "    prob = cp.Cplex()\n",
    "\n",
    "    # add decision variables to the problem including their coefficients in objective and ranges\n",
    "    prob.variables.add(obj = c.tolist(), lb = l.tolist(), ub = u.tolist())\n",
    "\n",
    "    # define problem type\n",
    "    if direction == \"maximize\":\n",
    "        prob.objective.set_sense(prob.objective.sense.maximize)\n",
    "    else:\n",
    "        prob.objective.set_sense(prob.objective.sense.minimize)\n",
    "\n",
    "    # add constraints to the problem including their directions and right-hand side values\n",
    "    prob.linear_constraints.add(senses = senses.tolist(), rhs = b.tolist())\n",
    "\n",
    "    # add coefficients for each constraint\n",
    "    row_indices, col_indices = A.nonzero()\n",
    "    prob.linear_constraints.set_coefficients(zip(row_indices.tolist(),\n",
    "                                                 col_indices.tolist(),\n",
    "                                                 A.data.tolist()))\n",
    "\n",
    "    # solve the problem\n",
    "    prob.solve()\n",
    "\n",
    "    # check the solution status\n",
    "    print(prob.solution.get_status())\n",
    "    print(prob.solution.status[prob.solution.get_status()])\n",
    "\n",
    "    # get the solution\n",
    "    x_star = prob.solution.get_values()\n",
    "    obj_star = prob.solution.get_objective_value()\n",
    "\n",
    "    return(x_star, obj_star)"
   ]
  },
  {
   "cell_type": "code",
   "execution_count": 3,
   "metadata": {},
   "outputs": [],
   "source": [
    "c = np.array([3, 5])\n",
    "A = sp.csr_matrix(np.array([[1, 0],\n",
    "                            [0, 2],\n",
    "                            [3, 2]]))\n",
    "senses = np.array([\"L\", \"L\", \"L\"])\n",
    "b = np.array([4, 12, 18])\n",
    "l = np.array([0, 0])\n",
    "u = np.array([cp.infinity, cp.infinity])\n",
    "\n",
    "variable_names = [\"x{}\".format(i + 1) for i in range(c.size)]\n",
    "constraint_names = [\"c{}\".format(i + 1) for i in range(b.size)]"
   ]
  },
  {
   "cell_type": "code",
   "execution_count": 4,
   "metadata": {},
   "outputs": [
    {
     "name": "stdout",
     "output_type": "stream",
     "text": [
      "Version identifier: 20.1.0.1 | 2022-01-05 | 9df5e5246\n",
      "CPXPARAM_Read_DataCheck                          1\n",
      "Tried aggregator 1 time.\n",
      "LP Presolve eliminated 2 rows and 0 columns.\n",
      "Reduced LP has 1 rows, 2 columns, and 2 nonzeros.\n",
      "Presolve time = 0.00 sec. (0.00 ticks)\n",
      "\n",
      "Iteration log . . .\n",
      "Iteration:     1   Dual objective     =            36.000000\n",
      "1\n",
      "optimal\n",
      "[2.0, 6.0]\n",
      "36.0\n"
     ]
    }
   ],
   "source": [
    "x_star, obj_star = linear_programming(\"maximize\", A, senses, b, c, l, u)\n",
    "print(x_star)\n",
    "print(obj_star)"
   ]
  },
  {
   "cell_type": "markdown",
   "metadata": {},
   "source": [
    "## Transportation problem\n",
    "\n",
    "The transportation problem is a network-flow model without intermediate locations. To formulate the problem, let us define the following terms:\n",
    "\n",
    "\\begin{align*}\n",
    "a_{i} &= \\textrm{Number of units available at source $i$ ($i = 1,2,\\dots,m$);}\\\\\n",
    "b_{j} &= \\textrm{Number of units required at destination $j$ ($j = 1,2,\\dots,n$);}\\\\\n",
    "c_{ij} &= \\textrm{Unit transportation cost from source $i$ to destination $j$ ($i = 1,2,\\dots,m$; $j = 1,2,\\dots,n$).}\n",
    "\\end{align*}\n",
    "\n",
    "For the moment, we assume that the total product availability is equal to the total product requirements; that is,\n",
    "\\begin{align*}\n",
    "\\sum\\limits_{i=1}^{m} a_{i} = \\sum\\limits_{j=1}^{n} b_{j}.\n",
    "\\end{align*}\n",
    "\n",
    "If we define the decision variables as:\n",
    "\n",
    "\\begin{align*}\n",
    "x_{ij} &= \\textrm{Number of units to be distributed from source $i$ to destination $j$ ($i = 1,2,\\dots,m$; $j = 1,2,\\dots,n$),}\n",
    "\\end{align*}\n",
    "\n",
    "we may then formulate the transportation problem as follows:\n",
    "\n",
    "\\begin{align*}\n",
    "\\mbox{minimize} \\;\\;& \\sum\\limits_{i=1}^{m} \\sum\\limits_{j=1}^{n} c_{ij} x_{ij} \\\\\n",
    "\\mbox{subject to:} \\;\\;& \\sum\\limits_{j=1}^{n} x_{ij} = a_{i} \\;\\;\\;\\; \\textrm{$i = 1,2,\\dots,m$,}\\\\\n",
    "\\;\\;& \\sum\\limits_{i=1}^{m} x_{ij} = b_{j} \\;\\;\\;\\; \\textrm{$j = 1,2,\\dots,n$,}\\\\\n",
    "\\;\\;& x_{ij} \\geq 0 \\;\\;\\;\\; \\textrm{$i = 1,2,\\dots,m$; $j = 1,2,\\dots,n$.}\n",
    "\\end{align*}\n",
    "\n",
    "\n"
   ]
  },
  {
   "cell_type": "markdown",
   "metadata": {},
   "source": [
    "Let us consider a simple example. A compressor company has plants in three locations: Cleveland, Chicago, and Boston. During the past week the total production of a special compressor unit out of each plant has been 35, 50, and 40 units respectively. The company wants to ship 45 units to a distribution center in Dallas, 20 to Atlanta, 30 to San Francisco, and 30 to Philadelphia. The unit production and distribution costs from each plant to each distribution center are given in the following table. What is the best shipping strategy to follow?"
   ]
  },
  {
   "cell_type": "markdown",
   "metadata": {},
   "source": [
    "|                  | Dallas | Atlanta | San Francisco | Philadelphia | **Availability** |\n",
    "| ---------------- | :----: | :-----: | :-----------: | :----------: | :--------------: |\n",
    "| **Cleveland**    | 8      | 6       | 10            | 9            | **35**           |\n",
    "| **Chicago**      | 9      | 12      | 13            | 7            | **50**           |\n",
    "| **Boston**       | 14     | 9       | 16            | 5            | **40**           |\n",
    "| **Requirements** | **45** | **20**  | **30**        | **30**       | **125**          |"
   ]
  },
  {
   "cell_type": "markdown",
   "metadata": {},
   "source": [
    "The linear-programming formulation of the corresponding transportation problem is:\n",
    "\\begin{align*}\n",
    "\\mbox{minimize} \\;\\;& 8x_{11} + 6x_{12} + 10x_{13} + 9x_{14}\n",
    "                    + 9x_{21} + 12x_{22} + 13x_{23} + 7x_{24}\n",
    "                    + 14x_{31} + 9x_{32} + 16x_{33} + 5x_{34}\\\\\n",
    "\\mbox{subject to:} \\;\\;& +1x_{11} +1x_{12} +1x_{13} +1x_{14} \\phantom{\\:\\:+0x_{21} +0x_{22} +0x_{23} +0x_{24} +0x_{31} +0x_{32} +0x_{33} +0x_{34}} = 35 \\\\\n",
    "                   \\;\\;& \\phantom{+0x_{11} +0x_{12} +0x_{13} +0x_{14}\\:\\:} +1x_{21} +1x_{22} +1x_{23} +1x_{24} \\phantom{+0x_{31} +0x_{32} +0x_{33} +0x_{34}\\:\\:} = 50 \\\\\n",
    "                   \\;\\;& \\phantom{+0x_{11} +0x_{12} +0x_{13} +0x_{14} +0x_{21} +0x_{22} +0x_{23} +0x_{24}\\:\\:} +1x_{31} +1x_{32} +1x_{33} +1x_{34} = 40 \\\\\n",
    "                    \\;\\;& +1x_{11} \\phantom{+0x_{12} +0x_{13} +0x_{14}\\:\\:} +1x_{21} \\hphantom{+0x_{22} +0x_{23} +0x_{24}\\:\\:} +1x_{31} \\phantom{+0x_{32} +0x_{33} +0x_{34}\\:\\:} = 45 \\\\\n",
    "                    \\;\\;& \\phantom{+0x_{11}\\:\\:} +1x_{12} \\phantom{+0x_{13} +0x_{14} +0x_{21}\\:\\:} +1x_{22} \\phantom{+0x_{23} +0x_{24} +0x_{31}\\:\\:} +1x_{32} \\phantom{+0x_{33} +0x_{34}\\:\\:} = 20 \\\\\n",
    "                    \\;\\;& \\phantom{+0x_{11} +0x_{12}\\:\\:} +1x_{13} \\phantom{+0x_{14} +0x_{21} +0x_{22}\\:\\:} +1x_{23} \\phantom{+0x_{24} +0x_{31} +0x_{32}\\:\\:} +1x_{33} \\phantom{+0x_{34}\\:\\:} = 30 \\\\\n",
    "                    \\;\\;& \\phantom{+0x_{11} +0x_{12} +0x_{13}\\:\\:} +1x_{14} \\phantom{+0x_{21} +0x_{22} +0x_{23}\\:\\:} +1x_{24} \\phantom{+0x_{31} +0x_{32} +0x_{33}\\:\\:} +1x_{34} = 30 \\\\\n",
    "\\;\\;& x_{11} \\geq 0 \\\\\n",
    "\\;\\;& x_{12} \\geq 0 \\\\\n",
    "\\;\\;& x_{13} \\geq 0 \\\\\n",
    "\\;\\;& x_{14} \\geq 0 \\\\\n",
    "\\;\\;& x_{21} \\geq 0 \\\\\n",
    "\\;\\;& x_{22} \\geq 0 \\\\\n",
    "\\;\\;& x_{23} \\geq 0 \\\\\n",
    "\\;\\;& x_{24} \\geq 0 \\\\\n",
    "\\;\\;& x_{31} \\geq 0 \\\\\n",
    "\\;\\;& x_{32} \\geq 0 \\\\\n",
    "\\;\\;& x_{33} \\geq 0 \\\\\n",
    "\\;\\;& x_{34} \\geq 0\n",
    "\\end{align*}"
   ]
  },
  {
   "cell_type": "code",
   "execution_count": 5,
   "metadata": {},
   "outputs": [
    {
     "data": {
      "image/png": "[encoded data removed]",
      "text/plain": [
       "<Figure size 700x1200 with 1 Axes>"
      ]
     },
     "metadata": {},
     "output_type": "display_data"
    },
    {
     "name": "stdout",
     "output_type": "stream",
     "text": [
      "Version identifier: 20.1.0.1 | 2022-01-05 | 9df5e5246\n",
      "CPXPARAM_Read_DataCheck                          1\n",
      "Tried aggregator 1 time.\n",
      "No LP presolve or aggregator reductions.\n",
      "Presolve time = 0.00 sec. (0.01 ticks)\n",
      "Initializing dual steep norms . . .\n",
      "\n",
      "Iteration log . . .\n",
      "Iteration:     1   Dual objective     =           980.000000\n",
      "1\n",
      "optimal\n",
      "[[ 0. 10. 25.  0.]\n",
      " [45.  0.  5.  0.]\n",
      " [ 0. 10.  0. 30.]]\n",
      "1020.0\n"
     ]
    }
   ],
   "source": [
    "c = np.array([8, 6, 10, 9, 9, 12, 13, 7, 14, 9, 16, 5])\n",
    "\n",
    "aij = np.repeat(1, 24)\n",
    "row = np.concatenate((np.repeat([0, 1, 2], 4), np.repeat([3, 4, 5, 6], 3)))\n",
    "col = np.concatenate((range(12), np.hstack([[i, i + 4, i + 8] for i in range(4)])))\n",
    "A = sp.csr_matrix((aij, (row, col)), shape = (7, 12))\n",
    "\n",
    "import matplotlib.pyplot as plt\n",
    "plt.figure(figsize = (7, 12))\n",
    "plt.spy(A, marker = \"o\")\n",
    "plt.show()\n",
    "\n",
    "senses = np.array([\"E\", \"E\", \"E\", \"E\", \"E\", \"E\", \"E\"])\n",
    "b = np.array([35, 50, 40, 45, 20, 30, 30])\n",
    "l = np.repeat(0, 12)\n",
    "u = np.repeat(cp.infinity, 12)\n",
    "\n",
    "x_star, obj_star = linear_programming(\"minimize\", A, senses, b, c, l, u)\n",
    "print(np.array(x_star).reshape(3, 4))\n",
    "print(obj_star)"
   ]
  },
  {
   "cell_type": "markdown",
   "metadata": {},
   "source": [
    "## Solving a QP problem\n",
    "\\begin{align*}\n",
    "\\mbox{maximize} \\;\\;& 0.20x_{1} + 0.16x_{2} - \\theta\\left[2x_{1}^{2} + x_{2}^{2} + (x_{1} + x_{2})^{2}\\right] \\\\\n",
    "\\mbox{subject to:} \\;\\;& 1x_{1} + 1x_{2} \\leq 5000 \\\\\n",
    "\\;\\;& x_{1} \\geq 0 \\\\\n",
    "\\;\\;& x_{2} \\geq 0\n",
    "\\end{align*}"
   ]
  },
  {
   "cell_type": "code",
   "execution_count": 6,
   "metadata": {},
   "outputs": [
    {
     "name": "stdout",
     "output_type": "stream",
     "text": [
      "\\ENCODING=ISO-8859-1\n",
      "\\Problem name: prob1\n",
      "\n",
      "Maximize\n",
      " profit: 0.2 x1 + 0.16 x2 + [ - 0.00006 x1 ^2 - 0.00004 x1 * x2 - 0.00004 x2 ^2\n",
      "         ] / 2\n",
      "Subject To\n",
      " c1: x1 + x2 <= 5000\n",
      "End\n",
      "\n",
      "Version identifier: 20.1.0.1 | 2022-01-05 | 9df5e5246\n",
      "CPXPARAM_Read_DataCheck                          1\n",
      "Number of nonzeros in lower triangle of Q = 1\n",
      "Using Approximate Minimum Degree ordering\n",
      "Total time for automatic ordering = 0.00 sec. (0.00 ticks)\n",
      "Summary statistics for factor of Q:\n",
      "  Rows in Factor            = 2\n",
      "  Integer space required    = 2\n",
      "  Total non-zeros in factor = 3\n",
      "  Total FP ops to factor    = 5\n",
      "Tried aggregator 1 time.\n",
      "QP Presolve added 0 rows and 2 columns.\n",
      "Reduced QP has 3 rows, 4 columns, and 7 nonzeros.\n",
      "Reduced QP objective Q matrix has 2 nonzeros.\n",
      "Presolve time = 0.01 sec. (0.00 ticks)\n",
      "Parallel mode: using up to 8 threads for barrier.\n",
      "Number of nonzeros in lower triangle of A*A' = 3\n",
      "Using Approximate Minimum Degree ordering\n",
      "Total time for automatic ordering = 0.00 sec. (0.00 ticks)\n",
      "Summary statistics for Cholesky factor:\n",
      "  Threads                   = 8\n",
      "  Rows in Factor            = 3\n",
      "  Integer space required    = 3\n",
      "  Total non-zeros in factor = 6\n",
      "  Total FP ops to factor    = 14\n",
      " Itn      Primal Obj        Dual Obj  Prim Inf Upper Inf  Dual Inf          \n",
      "   0   4.0555052e+02   1.9443482e+02  3.55e-15  0.00e+00  3.03e+03\n",
      "   1   4.0555946e+02   4.0449428e+02  3.55e-15  0.00e+00  1.52e+01\n",
      "   2   4.0728536e+02   4.0729383e+02  1.78e-15  0.00e+00  1.47e-01\n",
      "   3   4.4800387e+02   4.6222536e+02  5.33e-15  0.00e+00  8.86e-03\n",
      "   4   4.6071884e+02   4.6482843e+02  4.21e-12  0.00e+00  8.27e-18\n",
      "   5   4.6294597e+02   4.6340623e+02  7.45e-12  0.00e+00  2.04e-17\n",
      "   6   4.6328110e+02   4.6343764e+02  1.35e-10  0.00e+00  1.82e-17\n",
      "   7   4.6331703e+02   4.6336832e+02  4.58e-12  0.00e+00  4.76e-17\n",
      "   8   4.6332776e+02   4.6334475e+02  4.55e-12  0.00e+00  3.22e-17\n",
      "   9   4.6333146e+02   4.6333711e+02  5.49e-12  0.00e+00  5.76e-17\n",
      "  10   4.6333271e+02   4.6333459e+02  1.87e-12  0.00e+00  1.93e-17\n",
      "  11   4.6333312e+02   4.6333375e+02  3.67e-12  0.00e+00  4.01e-18\n",
      "  12   4.6333326e+02   4.6333347e+02  2.75e-12  0.00e+00  3.39e-17\n",
      "  13   4.6333331e+02   4.6333338e+02  2.78e-12  0.00e+00  3.58e-17\n",
      "  14   4.6333333e+02   4.6333335e+02  9.34e-13  0.00e+00  5.33e-17\n",
      "  15   4.6333333e+02   4.6333334e+02  3.68e-12  0.00e+00  4.21e-17\n",
      "  16   4.6333333e+02   4.6333334e+02  6.40e-12  0.00e+00  3.44e-17\n",
      "Barrier time = 0.03 sec. (0.02 ticks)\n",
      "\n",
      "Total time on 8 threads = 0.03 sec. (0.02 ticks)\n",
      "1\n",
      "optimal\n",
      "[2333.333291097167, 2666.666579890538]\n",
      "463.333332473251\n"
     ]
    }
   ],
   "source": [
    "theta = 0.00001\n",
    "# create an empty optimization problem\n",
    "prob1 = cp.Cplex()\n",
    "prob1.set_problem_name(\"prob1\")\n",
    "\n",
    "# add decision variables to the problem including their linear coefficients in objective, ranges, and names\n",
    "prob1.variables.add(obj = [0.20, 0.16], lb = [0, 0], ub = [cp.infinity, cp.infinity],\n",
    "                    names = [\"x1\", \"x2\"])\n",
    "\n",
    "prob1.objective.set_quadratic_coefficients(0, 0, -3 * theta * 2)\n",
    "prob1.objective.set_quadratic_coefficients(0, 1, -1 * theta * 2)\n",
    "prob1.objective.set_quadratic_coefficients(1, 0, -1 * theta * 2)\n",
    "prob1.objective.set_quadratic_coefficients(1, 1, -2 * theta * 2)\n",
    "\n",
    "# define problem type\n",
    "prob1.objective.set_name(\"profit\")\n",
    "prob1.objective.set_sense(prob1.objective.sense.maximize)\n",
    "\n",
    "# add constraints to the problem including their directions, right-hand side values, and names\n",
    "prob1.linear_constraints.add(senses = [\"L\"], rhs = [5000], names = [\"c1\"])\n",
    "\n",
    "# add coefficients for each constraint\n",
    "prob1.linear_constraints.set_coefficients(0, 0, 1)\n",
    "prob1.linear_constraints.set_coefficients(0, 1, 1)\n",
    "\n",
    "# display the problem\n",
    "print(prob1.write_as_string())\n",
    "\n",
    "# solve the problem\n",
    "prob1.solve()\n",
    "\n",
    "# check the solution status\n",
    "print(prob1.solution.get_status())\n",
    "print(prob1.solution.status[prob1.solution.get_status()])\n",
    "\n",
    "# check the solution\n",
    "x_star = prob1.solution.get_values()\n",
    "obj_star = prob1.solution.get_objective_value()\n",
    "print(x_star)\n",
    "print(obj_star)"
   ]
  }
 ],
 "metadata": {
  "kernelspec": {
   "display_name": "Python 3.9.0 64-bit",
   "language": "python",
   "name": "python3"
  },
  "language_info": {
   "codemirror_mode": {
    "name": "ipython",
    "version": 3
   },
   "file_extension": ".py",
   "mimetype": "text/x-python",
   "name": "python",
   "nbconvert_exporter": "python",
   "pygments_lexer": "ipython3",
   "version": "3.9.0"
  },
  "vscode": {
   "interpreter": {
    "hash": "aee8b7b246df8f9039afb4144a1f6fd8d2ca17a180786b69acc140d282b71a49"
   }
  }
 },
 "nbformat": 4,
 "nbformat_minor": 4
}
