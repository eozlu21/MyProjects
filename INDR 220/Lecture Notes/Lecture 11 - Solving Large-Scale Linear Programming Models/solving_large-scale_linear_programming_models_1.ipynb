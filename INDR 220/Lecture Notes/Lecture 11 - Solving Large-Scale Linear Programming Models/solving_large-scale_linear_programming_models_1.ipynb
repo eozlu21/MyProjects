{
 "cells": [
  {
   "cell_type": "markdown",
   "metadata": {},
   "source": [
    "# Solving Large-Scale Linear Programming Models\n",
    "## Mehmet Gönen\n",
    "## November 7, 2022"
   ]
  },
  {
   "cell_type": "code",
   "execution_count": 1,
   "metadata": {},
   "outputs": [],
   "source": [
    "# load libraries\n",
    "import numpy as np\n",
    "import scipy.sparse as sp\n",
    "\n",
    "import cplex as cp"
   ]
  },
  {
   "cell_type": "code",
   "execution_count": 2,
   "metadata": {},
   "outputs": [],
   "source": [
    "def linear_programming(direction, A, senses, b, c, l, u):\n",
    "    # create an empty optimization problem\n",
    "    prob = cp.Cplex()\n",
    "\n",
    "    # add decision variables to the problem including their coefficients in objective and ranges\n",
    "    prob.variables.add(obj = c.tolist(), lb = l.tolist(), ub = u.tolist())\n",
    "\n",
    "    # define problem type\n",
    "    if direction == \"maximize\":\n",
    "        prob.objective.set_sense(prob.objective.sense.maximize)\n",
    "    else:\n",
    "        prob.objective.set_sense(prob.objective.sense.minimize)\n",
    "\n",
    "    # add constraints to the problem including their directions and right-hand side values\n",
    "    prob.linear_constraints.add(senses = senses.tolist(), rhs = b.tolist())\n",
    "\n",
    "    # add coefficients for each constraint\n",
    "    row_indices, col_indices = A.nonzero()\n",
    "    prob.linear_constraints.set_coefficients(zip(row_indices.tolist(),\n",
    "                                                 col_indices.tolist(),\n",
    "                                                 A.data.tolist()))\n",
    "\n",
    "    # solve the problem\n",
    "    prob.solve()\n",
    "\n",
    "    # check the solution status\n",
    "    print(prob.solution.get_status())\n",
    "    print(prob.solution.status[prob.solution.get_status()])\n",
    "\n",
    "    # get the solution\n",
    "    x_star = prob.solution.get_values()\n",
    "    obj_star = prob.solution.get_objective_value()\n",
    "\n",
    "    return(x_star, obj_star)"
   ]
  },
  {
   "cell_type": "markdown",
   "metadata": {},
   "source": [
    "## The product mix problem\n",
    "\n",
    "To meet the demands of its customers, a company manufactures its products in its own factories (inside production) or buys them from other companies (outside production). Inside production is subject to some resource constraints: each product consumes a certain amount of each resource. In contrast, outside production is theoretically unlimited. The problem is to determine how much of each product should be produced inside the company and how much outside, while minimizing the overall production cost, meeting the demand, and not exceeding the resource constraints.\n",
    "\n",
    "The statement of the problem must specify the set of products and the set of resources. For each product, we need to know the inside and outside production costs, and for each resource we need to know the available capacity of that resource. Finally, we need to know the consumption of resources by the different products.\n",
    "\n",
    "The problem can be modeled as a linear programming problem as follows:\n",
    "\\begin{align*}\n",
    "\\mbox{minimize} \\;\\;& \\sum\\limits_{p = 1}^{P} c_{1p} x_{1p} + \\sum\\limits_{p = 1}^{P} c_{2p} x_{2p} \\\\\n",
    "\\mbox{subject to:} \\;\\;& x_{1p} + x_{2p} \\geq d_{p} \\;\\;\\;\\; p = 1, 2, \\dots, P \\\\\n",
    "\\;\\;& \\sum\\limits_{p = 1}^{P} a_{rp}x_{1p} \\leq b_{r} \\;\\;\\;\\; r = 1, 2, \\dots, R \\\\\n",
    "\\;\\;& x_{1p} \\geq 0 \\;\\;\\;\\; p = 1, 2, \\dots, P\\\\\n",
    "\\;\\;& x_{2p} \\geq 0 \\;\\;\\;\\; p = 1, 2, \\dots, P.\n",
    "\\end{align*}\n",
    "In this formulation, $x_{1p}$ and $x_{2p}$ show the production amounts of product $p$ for inside and outside production, respectively. $c_{1p}$ shows the unit production cost of product $p$ for inside production, and $c_{2p}$ is the unit acqusition cost of product $p$ for outside production. $d_{p}$ is the total demand for product $p$. $a_{rp}$ is the amount of resource $r$ we need to produce one unit of product $p$, whereas $b_{r}$ shows the total capacity for resource $r$.\n",
    "\n",
    "Let us assume that our company sells pasta products. We produce and sell three different pasta types, namely, kluski, capellini, and fettuccine.\n",
    "\n",
    "|            | Inside cost |Outside cost | Total demand |\n",
    "|:-----------|------------:|------------:|-------------:|\n",
    "| kluski     | 0.6         | 0.8         | 100          |\n",
    "| capellini  | 0.8         | 0.9         | 200          |\n",
    "| fettuccine | 0.3         | 0.4         | 300          |\n",
    "\n",
    "|       | kluski | capellini | fettuccine | Total capacity | \n",
    "|:------|-------:|----------:|-----------:|---------------:|\n",
    "| flour | 0.5    | 0.4       | 0.3        | 200            |\n",
    "| eggs  | 0.2    | 0.4       | 0.6        | 400            |\n",
    "\n",
    "In this scenario, we obtain the following linear programming problem:\n",
    "\\begin{align*}\n",
    "\\mbox{minimize} \\;\\;& 0.6 x_{11} + 0.8 x_{12} + 0.3 x_{13} + 0.8 x_{21} + 0.9 x_{22} + 0.4 x_{23} \\\\\n",
    "\\mbox{subject to:} \\;\\;& 1.0 x_{11} \\phantom{+ 0.0 x_{12} + 0.0 x_{13}\\:\\:} + 1.0 x_{21} \\phantom{+ 0.0 x_{22} + 0.0 x_{23}\\:\\:} \\geq 100\\\\\n",
    "\\;\\;& \\phantom{0.0 x_{11} +\\:} 1.0 x_{12} \\phantom{+ 0.0 x_{13} + 0.0 x_{21}\\:\\:} + 1.0 x_{22} \\phantom{+ 0.0 x_{23}\\:\\:} \\geq 200\\\\\n",
    "\\;\\;& \\phantom{0.0 x_{11} + 0.0 x_{12} +\\:} 1.0 x_{13} \\phantom{+ 0.0 x_{21} + 0.0 x_{22}\\:\\:} + 1.0 x_{23} \\geq 300\\\\\n",
    "\\;\\;& 0.5 x_{11} + 0.4 x_{12} + 0.3 x_{13} \\phantom{+ 0.0 x_{21} + 0.0 x_{22} + 0.0 x_{23}\\:\\:} \\leq 200\\\\\n",
    "\\;\\;& 0.2 x_{11} + 0.4 x_{12} + 0.6 x_{13} \\phantom{+ 0.0 x_{21} + 0.0 x_{22} + 0.0 x_{23}\\:\\:} \\leq 400\\\\\n",
    "\\;\\;& x_{11} \\geq 0 \\\\\n",
    "\\;\\;& x_{12} \\geq 0 \\\\\n",
    "\\;\\;& x_{13} \\geq 0 \\\\\n",
    "\\;\\;& x_{21} \\geq 0 \\\\\n",
    "\\;\\;& x_{22} \\geq 0 \\\\\n",
    "\\;\\;& x_{23} \\geq 0.\n",
    "\\end{align*}"
   ]
  },
  {
   "cell_type": "code",
   "execution_count": 3,
   "metadata": {
    "scrolled": false
   },
   "outputs": [],
   "source": [
    "def product_mix_problem(products_file, resources_file):\n",
    "    products = np.loadtxt(products_file)\n",
    "    resources = np.loadtxt(resources_file)\n",
    "\n",
    "    P = products.shape[0]\n",
    "    R = resources.shape[0]\n",
    "\n",
    "    c = np.concatenate((products[:, 1], products[:, 2]))\n",
    "    senses = np.concatenate((np.repeat(\"G\", P), np.repeat(\"L\", R)))\n",
    "    b = np.concatenate((products[:, 3], resources[:, P + 1]))\n",
    "    l = np.repeat(0, 2 * P)\n",
    "    u = np.repeat(cp.infinity, 2 * P)\n",
    "\n",
    "    aij = np.concatenate((np.repeat(1, 2 * P),\n",
    "                          resources[:, 1:(P + 1)].flatten()))\n",
    "    row = np.concatenate((np.repeat(range(P), 2),\n",
    "                          np.repeat(range(R), P) + P))\n",
    "    col = np.concatenate((np.array(range(2 * P)).reshape(2, P).T.flatten(),\n",
    "                          np.tile(range(P), R)))\n",
    "    A = sp.csr_matrix((aij, (row, col)), shape = (P + R, 2 * P))\n",
    "\n",
    "    #import matplotlib.pyplot as plt\n",
    "    #plt.figure(figsize = (5.0, 6.0))\n",
    "    #plt.spy(A, marker = \"o\", markersize = 6)\n",
    "    #plt.show()\n",
    "\n",
    "    x_star, obj_star = linear_programming(\"minimize\", A, senses, b, c, l, u)\n",
    "    return(x_star, obj_star)"
   ]
  },
  {
   "cell_type": "code",
   "execution_count": 4,
   "metadata": {},
   "outputs": [
    {
     "name": "stdout",
     "output_type": "stream",
     "text": [
      "Version identifier: 22.1.0.0 | 2022-03-27 | 54982fbec\n",
      "CPXPARAM_Read_DataCheck                          1\n",
      "Tried aggregator 1 time.\n",
      "No LP presolve or aggregator reductions.\n",
      "Presolve time = 0.00 sec. (0.00 ticks)\n",
      "\n",
      "Iteration log . . .\n",
      "Iteration:     1   Dual objective     =            90.000000\n",
      "1\n",
      "optimal\n",
      "[100.0, 150.0, 300.0, 0.0, 50.0, 0.0]\n",
      "315.0\n"
     ]
    }
   ],
   "source": [
    "x_star, obj_star = product_mix_problem(\"products3.txt\", \"resources2.txt\")\n",
    "print(x_star)\n",
    "print(obj_star)"
   ]
  },
  {
   "cell_type": "code",
   "execution_count": 5,
   "metadata": {},
   "outputs": [
    {
     "name": "stdout",
     "output_type": "stream",
     "text": [
      "(500, 4)\n",
      "(200, 502)\n"
     ]
    }
   ],
   "source": [
    "P = 500\n",
    "R = 200\n",
    "\n",
    "np.random.seed(220)\n",
    "products = np.hstack((np.array(range(P)).reshape(P, 1) + 1, \n",
    "                      np.random.uniform(0.3, 0.8, (P, 1)),\n",
    "                      np.random.uniform(0.5, 1.0, (P, 1)),\n",
    "                      np.random.randint(100, 900, (P, 1))))\n",
    "print(products.shape)\n",
    "np.savetxt(fname = \"products{}.txt\".format(P), \n",
    "           X = products, fmt = \"%d %f %f %d\")\n",
    "\n",
    "resources = np.hstack((np.array(range(R)).reshape(R, 1) + 1, \n",
    "                       np.random.uniform(0.2, 0.4, (R, P)),\n",
    "                       np.random.randint(1500, 1900, (R, 1))))\n",
    "print(resources.shape)\n",
    "np.savetxt(fname = \"resources{}.txt\".format(R), \n",
    "           X = resources, fmt = \"%d{} %d\".format(\" \".join(np.repeat(\" %f\", P))))"
   ]
  },
  {
   "cell_type": "code",
   "execution_count": 6,
   "metadata": {
    "scrolled": false
   },
   "outputs": [
    {
     "name": "stdout",
     "output_type": "stream",
     "text": [
      "Version identifier: 22.1.0.0 | 2022-03-27 | 54982fbec\n",
      "CPXPARAM_Read_DataCheck                          1\n",
      "Tried aggregator 1 time.\n",
      "LP Presolve eliminated 92 rows and 184 columns.\n",
      "Reduced LP has 608 rows, 816 columns, and 82416 nonzeros.\n",
      "Presolve time = 0.01 sec. (14.32 ticks)\n",
      "\n",
      "Iteration log . . .\n",
      "Iteration:     1   Dual objective     =         26539.379159\n",
      "Iteration:   188   Dual objective     =        121400.652104\n",
      "Iteration:   365   Dual objective     =        174961.625592\n",
      "1\n",
      "optimal\n",
      "[0.0, 0.0, 0.0, 0.0, 0.0, 0.0, 0.0, 0.0, 0.0, 0.0, 0.0, 0.0, 0.0, 0.0, 0.0, 0.0, 0.0, 0.0, 0.0, 0.0, 0.0, 0.0, 0.0, 0.0, 0.0, 0.0, 0.0, 0.0, 0.0, 0.0, 0.0, 0.0, 0.0, 0.0, 0.0, 0.0, 0.0, 0.0, 0.0, 0.0, 190.64724100259969, 0.0, 0.0, 0.0, 0.0, 0.0, 0.0, 0.0, 0.0, 0.0, 0.0, 0.0, 0.0, 0.0, 0.0, 0.0, 0.0, 0.0, 0.0, 0.0, 0.0, 0.0, 0.0, 0.0, 0.0, 0.0, 0.0, 0.0, 0.0, 0.0, 0.0, 0.0, 0.0, 0.0, 0.0, 0.0, 0.0, 0.0, 0.0, 0.0, 0.0, 0.0, 0.0, 0.0, 0.0, 0.0, 0.0, 0.0, 0.0, 0.0, 0.0, 0.0, 0.0, 346.8262900520284, 0.0, 0.0, 0.0, 0.0, 0.0, 0.0, 0.0, 0.0, 0.0, 0.0, 153.0, 0.0, 0.0, 0.0, 0.0, 0.0, 0.0, 0.0, 0.0, 0.0, 0.0, 0.0, 0.0, 0.0, 0.0, 0.0, 0.0, 0.0, 0.0, 0.0, 0.0, 0.0, 0.0, 0.0, 0.0, 0.0, 0.0, 0.0, 0.0, 0.0, 278.02723654319533, 0.0, 0.0, 0.0, 0.0, 0.0, 0.0, 0.0, 0.0, 0.0, 0.0, 0.0, 0.0, 0.0, 0.0, 26.295210049557, 0.0, 0.0, 0.0, 0.0, 0.0, 0.0, 0.0, 0.0, 0.0, 0.0, 0.0, 0.0, 0.0, 0.0, 0.0, 0.0, 0.0, 0.0, 0.0, 0.0, 0.0, 0.0, 0.0, 0.0, 0.0, 0.0, 0.0, 0.0, 0.0, 0.0, 0.0, 0.0, 0.0, 0.0, 0.0, 0.0, 0.0, 0.0, 0.0, 0.0, 0.0, 0.0, 0.0, 0.0, 0.0, 0.0, 0.0, 0.0, 0.0, 0.0, 0.0, 0.0, 0.0, 0.0, 0.0, 0.0, 0.0, 0.0, 0.0, 0.0, 0.0, 0.0, 0.0, 0.0, 0.0, 0.0, 0.0, 0.0, 0.0, 0.0, 0.0, 0.0, 0.0, 0.0, 0.0, 0.0, 0.0, 0.0, 0.0, 0.0, 0.0, 0.0, 0.0, 0.0, 0.0, 0.0, 0.0, 0.0, 0.0, 0.0, 0.0, 311.0, 0.0, 0.0, 0.0, 0.0, 584.0, 0.0, 0.0, 0.0, 0.0, 0.0, 0.0, 0.0, 0.0, 0.0, 0.0, 0.0, 0.0, 0.0, 0.0, 0.0, 0.0, 0.0, 0.0, 0.0, 0.0, 0.0, 0.0, 0.0, 0.0, 0.0, 0.0, 0.0, 0.0, 0.0, 0.0, 0.0, 0.0, 0.0, 0.0, 0.0, 0.0, 336.3366594937014, 0.0, 0.0, 339.3532474532184, 0.0, 0.0, 0.0, 0.0, 0.0, 0.0, 0.0, 0.0, 0.0, 0.0, 0.0, 0.0, 0.0, 0.0, 0.0, 0.0, 0.0, 0.0, 0.0, 0.0, 0.0, 0.0, 0.0, 0.0, 0.0, 114.58647042979311, 0.0, 0.0, 0.0, 0.0, 0.0, 0.0, 0.0, 0.0, 0.0, 0.0, 0.0, 0.0, 0.0, 0.0, 0.0, 0.0, 0.0, 0.0, 0.0, 0.0, 0.0, 0.0, 0.0, 0.0, 0.0, 0.0, 0.0, 0.0, 0.0, 0.0, 0.0, 0.0, 0.0, 348.72816906152207, 0.0, 0.0, 0.0, 0.0, 0.0, 0.0, 0.0, 0.0, 0.0, 0.0, 0.0, 0.0, 0.0, 0.0, 0.0, 0.0, 0.0, 0.0, 579.269404971092, 0.0, 0.0, 121.98157183082857, 0.0, 0.0, 0.0, 0.0, 0.0, 0.0, 0.0, 0.0, 0.0, 0.0, 0.0, 0.0, 0.0, 0.0, 0.0, 0.0, 0.0, 0.0, 0.0, 0.0, 0.0, 0.0, 0.0, 0.0, 0.0, 0.0, 0.0, 0.0, 0.0, 0.0, 0.0, 0.0, 0.0, 0.0, 498.0, 0.0, 0.0, 0.0, 0.0, 0.0, 0.0, 0.0, 0.0, 0.0, 0.0, 0.0, 0.0, 0.0, 136.25239105429716, 0.0, 0.0, 0.0, 0.0, 0.0, 0.0, 0.0, 0.0, 0.0, 0.0, 0.0, 0.0, 0.0, 0.0, 0.0, 0.0, 0.0, 0.0, 0.0, 0.0, 0.0, 0.0, 0.0, 0.0, 0.0, 0.0, 0.0, 0.0, 0.0, 0.0, 0.0, 0.0, 0.0, 0.0, 0.0, 0.0, 0.0, 0.0, 0.0, 0.0, 0.0, 0.0, 0.0, 0.0, 0.0, 0.0, 0.0, 0.0, 0.0, 0.0, 0.0, 0.0, 0.0, 0.0, 0.0, 0.0, 0.0, 0.0, 0.0, 0.0, 0.0, 0.0, 0.0, 0.0, 0.0, 0.0, 0.0, 0.0, 0.0, 0.0, 0.0, 0.0, 0.0, 0.0, 0.0, 0.0, 0.0, 0.0, 513.0, 0.0, 0.0, 0.0, 137.0, 108.0, 568.0, 127.0, 175.0, 787.0, 847.0, 214.0, 109.0, 652.0, 824.0, 181.0, 782.0, 276.0, 223.0, 303.0, 541.0, 735.0, 528.0, 854.0, 341.0, 382.0, 405.0, 413.0, 878.0, 530.0, 426.0, 270.0, 206.0, 221.0, 276.0, 343.0, 370.0, 402.0, 807.0, 502.0, 264.0, 282.0, 579.0, 313.0, 213.35275899740031, 508.0, 591.0, 819.0, 187.0, 214.0, 409.0, 133.0, 453.0, 842.0, 664.0, 552.0, 332.0, 577.0, 386.0, 462.0, 857.0, 758.0, 738.0, 802.0, 827.0, 183.0, 824.0, 676.0, 889.0, 184.0, 189.0, 169.0, 337.0, 687.0, 508.0, 574.0, 110.0, 534.0, 665.0, 871.0, 117.0, 436.0, 131.0, 675.0, 257.0, 559.0, 867.0, 750.0, 322.0, 199.0, 102.0, 532.0, 713.0, 239.0, 697.0, 245.0, 608.0, 551.1737099479716, 238.0, 698.0, 143.0, 320.0, 589.0, 793.0, 720.0, 600.0, 533.0, 708.0, 0.0, 405.0, 829.0, 637.0, 664.0, 720.0, 200.0, 429.0, 717.0, 618.0, 550.0, 486.0, 522.0, 862.0, 850.0, 410.0, 153.0, 562.0, 877.0, 593.0, 686.0, 516.0, 123.0, 541.0, 862.0, 338.0, 745.0, 827.0, 427.0, 783.0, 593.9727634568046, 489.0, 174.0, 638.0, 569.0, 813.0, 757.0, 467.0, 317.0, 818.0, 587.0, 323.0, 134.0, 853.0, 772.0, 820.704789950443, 271.0, 192.0, 194.0, 217.0, 456.0, 836.0, 732.0, 546.0, 741.0, 245.0, 825.0, 750.0, 144.0, 396.0, 131.0, 116.0, 730.0, 735.0, 298.0, 881.0, 644.0, 713.0, 646.0, 808.0, 459.0, 624.0, 556.0, 688.0, 263.0, 337.0, 197.0, 587.0, 522.0, 492.0, 617.0, 640.0, 380.0, 106.0, 245.0, 241.0, 266.0, 490.0, 367.0, 209.0, 595.0, 363.0, 393.0, 557.0, 331.0, 197.0, 863.0, 131.0, 875.0, 247.0, 440.0, 335.0, 763.0, 548.0, 344.0, 605.0, 432.0, 614.0, 417.0, 260.0, 259.0, 369.0, 506.0, 830.0, 504.0, 481.0, 502.0, 282.0, 721.0, 296.0, 236.0, 407.0, 132.0, 515.0, 144.0, 163.0, 877.0, 777.0, 345.0, 339.0, 581.0, 545.0, 385.0, 734.0, 831.0, 665.0, 586.0, 0.0, 111.0, 684.0, 865.0, 626.0, 0.0, 460.0, 391.0, 573.0, 393.0, 494.0, 873.0, 629.0, 392.0, 779.0, 223.0, 602.0, 893.0, 231.0, 526.0, 137.0, 879.0, 333.0, 240.0, 659.0, 589.0, 132.0, 108.0, 285.0, 491.0, 631.0, 487.0, 701.0, 738.0, 622.0, 715.0, 658.0, 237.0, 571.0, 276.0, 522.0, 409.0, 530.6633405062986, 298.0, 437.0, 471.6467525467816, 496.0, 286.0, 615.0, 133.0, 802.0, 464.0, 522.0, 211.0, 736.0, 741.0, 867.0, 452.0, 498.0, 490.0, 894.0, 100.0, 627.0, 145.0, 330.0, 703.0, 138.0, 460.0, 128.0, 477.0, 658.0, 228.4135295702069, 326.0, 489.0, 148.0, 645.0, 627.0, 704.0, 595.0, 686.0, 829.0, 857.0, 829.0, 259.0, 795.0, 450.0, 463.0, 851.0, 864.0, 289.0, 226.0, 166.0, 701.0, 245.0, 225.0, 408.0, 198.0, 260.0, 487.0, 462.0, 530.0, 297.0, 275.0, 463.0, 879.0, 467.27183093847793, 710.0, 766.0, 732.0, 198.0, 225.0, 373.0, 481.0, 418.0, 434.0, 119.0, 439.0, 669.0, 487.0, 352.0, 680.0, 183.0, 233.0, 181.0, 297.73059502890806, 311.0, 407.0, 596.0184281691714, 528.0, 598.0, 792.0, 587.0, 838.0, 209.0, 351.0, 564.0, 806.0, 374.0, 279.0, 503.0, 104.0, 196.0, 488.0, 614.0, 832.0, 329.0, 860.0, 241.0, 237.0, 247.0, 290.0, 698.0, 333.0, 779.0, 810.0, 323.0, 679.0, 248.0, 851.0, 478.0, 416.0, 256.0, 0.0, 270.0, 791.0, 861.0, 509.0, 320.0, 835.0, 115.0, 337.0, 429.0, 305.0, 734.0, 760.0, 554.0, 313.74760894570284, 267.0, 220.0, 600.0, 842.0, 192.0, 178.0, 396.0, 578.0, 302.0, 731.0, 128.0, 598.0, 405.0, 166.0, 406.0, 829.0, 695.0, 890.0, 602.0, 377.0, 575.0, 598.0, 587.0, 563.0, 871.0, 734.0, 449.0, 452.0, 336.0, 502.0, 677.0, 667.0, 651.0, 857.0, 541.0, 438.0, 835.0, 638.0, 152.0, 190.0, 432.0, 314.0, 145.0, 339.0, 831.0, 754.0, 688.0, 727.0, 761.0, 532.0, 738.0, 130.0, 725.0, 838.0, 899.0, 504.0, 296.0, 310.0, 635.0, 566.0, 371.0, 331.0, 498.0, 518.0, 662.0, 553.0, 590.0, 653.0, 810.0, 479.0, 806.0, 300.0, 611.0, 897.0, 351.0, 266.0, 193.0, 476.0, 0.0, 886.0, 307.0, 765.0]\n",
      "187408.5772422774\n"
     ]
    }
   ],
   "source": [
    "x_star, obj_star = product_mix_problem(\"products500.txt\", \"resources200.txt\")\n",
    "print(x_star)\n",
    "print(obj_star)"
   ]
  },
  {
   "cell_type": "code",
   "execution_count": 7,
   "metadata": {},
   "outputs": [
    {
     "name": "stdout",
     "output_type": "stream",
     "text": [
      "(2500, 4)\n",
      "(1000, 2502)\n"
     ]
    }
   ],
   "source": [
    "P = 2500\n",
    "R = 1000\n",
    "\n",
    "np.random.seed(220)\n",
    "products = np.hstack((np.array(range(P)).reshape(P, 1) + 1, \n",
    "                      np.random.uniform(0.3, 0.8, (P, 1)),\n",
    "                      np.random.uniform(0.5, 1.0, (P, 1)),\n",
    "                      np.random.randint(100, 900, (P, 1))))\n",
    "print(products.shape)\n",
    "np.savetxt(fname = \"products{}.txt\".format(P), \n",
    "           X = products, fmt = \"%d %f %f %d\")\n",
    "\n",
    "resources = np.hstack((np.array(range(R)).reshape(R, 1) + 1, \n",
    "                       np.random.uniform(0.2, 0.4, (R, P)),\n",
    "                       np.random.randint(15000, 19000, (R, 1))))\n",
    "print(resources.shape)\n",
    "np.savetxt(fname = \"resources{}.txt\".format(R), \n",
    "           X = resources, fmt = \"%d{} %d\".format(\" \".join(np.repeat(\" %f\", P))))"
   ]
  },
  {
   "cell_type": "code",
   "execution_count": 8,
   "metadata": {
    "scrolled": false
   },
   "outputs": [
    {
     "name": "stderr",
     "output_type": "stream",
     "text": [
      "CPLEX Error  1016: Community Edition. Problem size limits exceeded. Purchase at http://ibm.biz/error1016.\n"
     ]
    },
    {
     "ename": "CplexSolverError",
     "evalue": "CPLEX Error  1016: Community Edition. Problem size limits exceeded. Purchase at http://ibm.biz/error1016.",
     "output_type": "error",
     "traceback": [
      "\u001b[0;31m---------------------------------------------------------------------------\u001b[0m",
      "\u001b[0;31mCplexSolverError\u001b[0m                          Traceback (most recent call last)",
      "Cell \u001b[0;32mIn [8], line 1\u001b[0m\n\u001b[0;32m----> 1\u001b[0m x_star, obj_star \u001b[39m=\u001b[39m product_mix_problem(\u001b[39m\"\u001b[39;49m\u001b[39mproducts2500.txt\u001b[39;49m\u001b[39m\"\u001b[39;49m, \u001b[39m\"\u001b[39;49m\u001b[39mresources1000.txt\u001b[39;49m\u001b[39m\"\u001b[39;49m)\n\u001b[1;32m      2\u001b[0m \u001b[39mprint\u001b[39m(x_star)\n\u001b[1;32m      3\u001b[0m \u001b[39mprint\u001b[39m(obj_star)\n",
      "Cell \u001b[0;32mIn [3], line 27\u001b[0m, in \u001b[0;36mproduct_mix_problem\u001b[0;34m(products_file, resources_file)\u001b[0m\n\u001b[1;32m     20\u001b[0m A \u001b[39m=\u001b[39m sp\u001b[39m.\u001b[39mcsr_matrix((aij, (row, col)), shape \u001b[39m=\u001b[39m (P \u001b[39m+\u001b[39m R, \u001b[39m2\u001b[39m \u001b[39m*\u001b[39m P))\n\u001b[1;32m     22\u001b[0m \u001b[39m#import matplotlib.pyplot as plt\u001b[39;00m\n\u001b[1;32m     23\u001b[0m \u001b[39m#plt.figure(figsize = (5.0, 6.0))\u001b[39;00m\n\u001b[1;32m     24\u001b[0m \u001b[39m#plt.spy(A, marker = \"o\", markersize = 6)\u001b[39;00m\n\u001b[1;32m     25\u001b[0m \u001b[39m#plt.show()\u001b[39;00m\n\u001b[0;32m---> 27\u001b[0m x_star, obj_star \u001b[39m=\u001b[39m linear_programming(\u001b[39m\"\u001b[39;49m\u001b[39mminimize\u001b[39;49m\u001b[39m\"\u001b[39;49m, A, senses, b, c, l, u)\n\u001b[1;32m     28\u001b[0m \u001b[39mreturn\u001b[39;00m(x_star, obj_star)\n",
      "Cell \u001b[0;32mIn [2], line 24\u001b[0m, in \u001b[0;36mlinear_programming\u001b[0;34m(direction, A, senses, b, c, l, u)\u001b[0m\n\u001b[1;32m     19\u001b[0m prob\u001b[39m.\u001b[39mlinear_constraints\u001b[39m.\u001b[39mset_coefficients(\u001b[39mzip\u001b[39m(row_indices\u001b[39m.\u001b[39mtolist(),\n\u001b[1;32m     20\u001b[0m                                              col_indices\u001b[39m.\u001b[39mtolist(),\n\u001b[1;32m     21\u001b[0m                                              A\u001b[39m.\u001b[39mdata\u001b[39m.\u001b[39mtolist()))\n\u001b[1;32m     23\u001b[0m \u001b[39m# solve the problem\u001b[39;00m\n\u001b[0;32m---> 24\u001b[0m prob\u001b[39m.\u001b[39;49msolve()\n\u001b[1;32m     26\u001b[0m \u001b[39m# check the solution status\u001b[39;00m\n\u001b[1;32m     27\u001b[0m \u001b[39mprint\u001b[39m(prob\u001b[39m.\u001b[39msolution\u001b[39m.\u001b[39mget_status())\n",
      "File \u001b[0;32m/Library/Frameworks/Python.framework/Versions/3.9/lib/python3.9/site-packages/cplex/__init__.py:1312\u001b[0m, in \u001b[0;36mCplex.solve\u001b[0;34m(self, paramsets)\u001b[0m\n\u001b[1;32m   1310\u001b[0m         _proc\u001b[39m.\u001b[39mqpopt(\u001b[39mself\u001b[39m\u001b[39m.\u001b[39m_env\u001b[39m.\u001b[39m_e, \u001b[39mself\u001b[39m\u001b[39m.\u001b[39m_lp)\n\u001b[1;32m   1311\u001b[0m \u001b[39melif\u001b[39;00m \u001b[39mnot\u001b[39;00m \u001b[39mself\u001b[39m\u001b[39m.\u001b[39mobjective\u001b[39m.\u001b[39mget_num_quadratic_nonzeros() \u001b[39m>\u001b[39m \u001b[39m0\u001b[39m:\n\u001b[0;32m-> 1312\u001b[0m     _proc\u001b[39m.\u001b[39;49mlpopt(\u001b[39mself\u001b[39;49m\u001b[39m.\u001b[39;49m_env\u001b[39m.\u001b[39;49m_e, \u001b[39mself\u001b[39;49m\u001b[39m.\u001b[39;49m_lp)\n\u001b[1;32m   1313\u001b[0m \u001b[39melse\u001b[39;00m:\n\u001b[1;32m   1314\u001b[0m     _proc\u001b[39m.\u001b[39mqpopt(\u001b[39mself\u001b[39m\u001b[39m.\u001b[39m_env\u001b[39m.\u001b[39m_e, \u001b[39mself\u001b[39m\u001b[39m.\u001b[39m_lp)\n",
      "File \u001b[0;32m/Library/Frameworks/Python.framework/Versions/3.9/lib/python3.9/site-packages/cplex/_internal/_procedural.py:738\u001b[0m, in \u001b[0;36mlpopt\u001b[0;34m(env, lp)\u001b[0m\n\u001b[1;32m    736\u001b[0m \u001b[39mwith\u001b[39;00m SigIntHandler():\n\u001b[1;32m    737\u001b[0m     status \u001b[39m=\u001b[39m CR\u001b[39m.\u001b[39mCPXXlpopt(env, lp)\n\u001b[0;32m--> 738\u001b[0m check_status(env, status)\n",
      "File \u001b[0;32m/Library/Frameworks/Python.framework/Versions/3.9/lib/python3.9/site-packages/cplex/_internal/_procedural.py:249\u001b[0m, in \u001b[0;36mStatusChecker.__call__\u001b[0;34m(self, env, status, from_cb)\u001b[0m\n\u001b[1;32m    247\u001b[0m     \u001b[39melse\u001b[39;00m:\n\u001b[1;32m    248\u001b[0m         error_string \u001b[39m=\u001b[39m geterrorstring(env, status)\n\u001b[0;32m--> 249\u001b[0m \u001b[39mraise\u001b[39;00m CplexSolverError(error_string, env, status)\n",
      "\u001b[0;31mCplexSolverError\u001b[0m: CPLEX Error  1016: Community Edition. Problem size limits exceeded. Purchase at http://ibm.biz/error1016."
     ]
    }
   ],
   "source": [
    "x_star, obj_star = product_mix_problem(\"products2500.txt\", \"resources1000.txt\")\n",
    "print(x_star)\n",
    "print(obj_star)"
   ]
  }
 ],
 "metadata": {
  "kernelspec": {
   "display_name": "Python 3.10.2 64-bit",
   "language": "python",
   "name": "python3"
  },
  "language_info": {
   "codemirror_mode": {
    "name": "ipython",
    "version": 3
   },
   "file_extension": ".py",
   "mimetype": "text/x-python",
   "name": "python",
   "nbconvert_exporter": "python",
   "pygments_lexer": "ipython3",
   "version": "3.9.0"
  },
  "vscode": {
   "interpreter": {
    "hash": "aee8b7b246df8f9039afb4144a1f6fd8d2ca17a180786b69acc140d282b71a49"
   }
  }
 },
 "nbformat": 4,
 "nbformat_minor": 4
}
